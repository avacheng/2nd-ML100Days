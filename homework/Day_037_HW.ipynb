{
 "cells": [
  {
   "cell_type": "markdown",
   "metadata": {},
   "source": [
    "## [作業重點]\n",
    "了解線性回歸的模型發展歷程，並了解優勢與劣勢，以及其使用情境"
   ]
  },
  {
   "cell_type": "markdown",
   "metadata": {},
   "source": [
    "## 作業"
   ]
  },
  {
   "cell_type": "markdown",
   "metadata": {},
   "source": [
    "請閱讀以下相關文獻，並回答以下問題\n",
    "\n",
    "[Linear Regression 詳細介紹](https://brohrer.mcknote.com/zh-Hant/how_machine_learning_works/how_linear_regression_works.html)\n",
    "\n",
    "[Logistics Regression 詳細介紹](https://medium.com/@yehjames/%E8%B3%87%E6%96%99%E5%88%86%E6%9E%90-%E6%A9%9F%E5%99%A8%E5%AD%B8%E7%BF%92-%E7%AC%AC3-3%E8%AC%9B-%E7%B7%9A%E6%80%A7%E5%88%86%E9%A1%9E-%E9%82%8F%E8%BC%AF%E6%96%AF%E5%9B%9E%E6%AD%B8-logistic-regression-%E4%BB%8B%E7%B4%B9-a1a5f47017e5)\n",
    "\n",
    "[你可能不知道的 Logistic Regression](https://taweihuang.hpd.io/2017/12/22/logreg101/)\n"
   ]
  },
  {
   "cell_type": "markdown",
   "metadata": {},
   "source": [
    "1. 線性回歸模型能夠準確預測非線性關係的資料集嗎?\n",
    " - 可以嘗試將非線性的資料透過變數轉換來建立線性回歸模型\n",
    " - 以羅吉斯回歸來說，可轉換成 Log Odds（對數勝率）的線性回歸模型，但因機率是無法直接觀察到的，只能用最大概似法 (Maximum Likelihood Estimation) 來計算模型參數\n",
    " \n",
    " \n",
    "\n",
    "2. 回歸模型是否對資料分布有基本假設?\n",
    " - 有\n",
    " - [線性回歸](http://www3.nccu.edu.tw/~tsaich/EastAsian/102semester/week12_0521v1.pdf)：每筆資料間互相獨立；資料以隨機的方式從母體抽出（常態分布）；自變數 X 有變異量；自變數 X 間互相獨立；誤差項對任何 X 的變異數相等（homoscedasticity）；誤差項與 X 互相獨立而且呈常態分佈；自變數和依變數間是線性關係\n",
    " - [羅吉斯回歸](https://www.statisticssolutions.com/assumptions-of-logistic-regression/)：自變數和依變數間不須是線性關係，但是假設自變數是和對數勝率為線性關係；須將離散型資料（依變數）轉為介於 0 與 1 之間的連續形資料型態；每筆資料間互相獨立；自變數 X 間互相獨立；通常需要大量樣本（殘差不需要常態分布、不需要 homoscedasticity）\n",
    "\n",
    "\n"
   ]
  },
  {
   "cell_type": "code",
   "execution_count": null,
   "metadata": {},
   "outputs": [],
   "source": []
  }
 ],
 "metadata": {
  "kernelspec": {
   "display_name": "Python 3",
   "language": "python",
   "name": "python3"
  },
  "language_info": {
   "codemirror_mode": {
    "name": "ipython",
    "version": 3
   },
   "file_extension": ".py",
   "mimetype": "text/x-python",
   "name": "python",
   "nbconvert_exporter": "python",
   "pygments_lexer": "ipython3",
   "version": "3.7.1"
  }
 },
 "nbformat": 4,
 "nbformat_minor": 2
}
