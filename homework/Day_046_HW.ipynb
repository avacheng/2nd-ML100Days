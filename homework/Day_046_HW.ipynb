{
 "cells": [
  {
   "cell_type": "markdown",
   "metadata": {},
   "source": [
    "#### 參考資料\n",
    "完整調參數攻略-如何使用 Python 調整梯度提升機的超參數     \n",
    "[complete-guide-parameter-tuning-gradient-boosting-gbm](https://www.analyticsvidhya.com/blog/2016/02/complete-guide-parameter-tuning-gradient-boosting-gbm-python/)"
   ]
  },
  {
   "cell_type": "code",
   "execution_count": 1,
   "metadata": {},
   "outputs": [],
   "source": [
    "from sklearn import datasets, metrics\n",
    "from sklearn.ensemble import GradientBoostingClassifier\n",
    "from sklearn.model_selection import train_test_split"
   ]
  },
  {
   "cell_type": "code",
   "execution_count": 2,
   "metadata": {},
   "outputs": [],
   "source": [
    "# 讀取鳶尾花資料集\n",
    "iris = datasets.load_iris()\n",
    "\n",
    "# 切分訓練集/測試集\n",
    "x_train, x_test, y_train, y_test = train_test_split(iris.data, iris.target, test_size=0.25, random_state=4)\n",
    "\n",
    "# 建立模型\n",
    "clf = GradientBoostingClassifier()\n",
    "\n",
    "# 訓練模型\n",
    "clf.fit(x_train, y_train)\n",
    "\n",
    "# 預測測試集\n",
    "y_pred = clf.predict(x_test)"
   ]
  },
  {
   "cell_type": "code",
   "execution_count": 3,
   "metadata": {},
   "outputs": [
    {
     "name": "stdout",
     "output_type": "stream",
     "text": [
      "Acuuracy:  0.9736842105263158\n"
     ]
    }
   ],
   "source": [
    "acc = metrics.accuracy_score(y_test, y_pred)\n",
    "print(\"Acuuracy: \", acc)"
   ]
  },
  {
   "cell_type": "markdown",
   "metadata": {},
   "source": [
    "### 作業\n",
    "目前已經學過許多的模型，相信大家對整體流程應該比較掌握了，這次作業請改用**手寫辨識資料集**，步驟流程都是一樣的，請試著自己撰寫程式碼來完成所有步驟"
   ]
  },
  {
   "cell_type": "code",
   "execution_count": 4,
   "metadata": {},
   "outputs": [],
   "source": [
    "from sklearn import datasets, metrics\n",
    "digits = datasets.load_digits()"
   ]
  },
  {
   "cell_type": "code",
   "execution_count": 5,
   "metadata": {},
   "outputs": [
    {
     "name": "stdout",
     "output_type": "stream",
     "text": [
      "Target: [0 1 2 3 4 5 6 7 8 9]\n",
      "Data shape: (1797, 64)\n",
      "Image shape: (1797, 8, 8)\n"
     ]
    }
   ],
   "source": [
    "print('Target:', digits.target_names)\n",
    "print('Data shape:', digits.data.shape)\n",
    "print('Image shape:', digits.images.shape)"
   ]
  },
  {
   "cell_type": "code",
   "execution_count": 6,
   "metadata": {},
   "outputs": [],
   "source": [
    "# 切分訓練集/測試集\n",
    "x_train, x_test, y_train, y_test = train_test_split(digits.data, digits.target, test_size=0.25, random_state=4)"
   ]
  },
  {
   "cell_type": "code",
   "execution_count": 7,
   "metadata": {},
   "outputs": [
    {
     "name": "stdout",
     "output_type": "stream",
     "text": [
      "Accuracy:  0.9666666666666667\n"
     ]
    },
    {
     "data": {
      "text/plain": [
       "array([[47,  0,  0,  0,  0,  0,  0,  0,  1,  0],\n",
       "       [ 1, 37,  0,  1,  0,  0,  0,  0,  0,  0],\n",
       "       [ 1,  0, 47,  0,  0,  0,  0,  0,  0,  0],\n",
       "       [ 0,  1,  0, 40,  0,  0,  0,  0,  2,  0],\n",
       "       [ 0,  0,  0,  0, 40,  2,  0,  0,  0,  0],\n",
       "       [ 0,  0,  0,  0,  0, 47,  0,  0,  0,  2],\n",
       "       [ 0,  0,  0,  0,  0,  0, 38,  0,  1,  0],\n",
       "       [ 0,  0,  0,  0,  0,  0,  0, 49,  0,  0],\n",
       "       [ 0,  1,  0,  0,  0,  0,  0,  0, 42,  0],\n",
       "       [ 0,  0,  0,  0,  0,  0,  0,  1,  1, 48]], dtype=int64)"
      ]
     },
     "execution_count": 7,
     "metadata": {},
     "output_type": "execute_result"
    }
   ],
   "source": [
    "# 建立模型\n",
    "clf = GradientBoostingClassifier()\n",
    "\n",
    "# 訓練模型\n",
    "clf.fit(x_train, y_train)\n",
    "\n",
    "# 預測測試集\n",
    "y_pred = clf.predict(x_test)\n",
    "\n",
    "acc = metrics.accuracy_score(y_test, y_pred)\n",
    "print(\"Accuracy: \", acc)\n",
    "\n",
    "metrics.confusion_matrix(y_test, y_pred)"
   ]
  },
  {
   "cell_type": "code",
   "execution_count": 8,
   "metadata": {},
   "outputs": [
    {
     "name": "stdout",
     "output_type": "stream",
     "text": [
      "Accuracy:  0.9777777777777777\n"
     ]
    },
    {
     "data": {
      "text/plain": [
       "array([[47,  0,  0,  0,  0,  0,  0,  0,  1,  0],\n",
       "       [ 1, 37,  0,  1,  0,  0,  0,  0,  0,  0],\n",
       "       [ 0,  0, 48,  0,  0,  0,  0,  0,  0,  0],\n",
       "       [ 0,  1,  0, 41,  0,  0,  0,  0,  0,  1],\n",
       "       [ 0,  0,  0,  0, 41,  1,  0,  0,  0,  0],\n",
       "       [ 0,  0,  0,  0,  0, 48,  0,  0,  0,  1],\n",
       "       [ 0,  0,  0,  0,  0,  0, 38,  0,  1,  0],\n",
       "       [ 0,  0,  0,  0,  0,  0,  0, 49,  0,  0],\n",
       "       [ 0,  1,  0,  0,  0,  0,  0,  0, 42,  0],\n",
       "       [ 0,  0,  0,  0,  0,  0,  0,  0,  1, 49]], dtype=int64)"
      ]
     },
     "execution_count": 8,
     "metadata": {},
     "output_type": "execute_result"
    }
   ],
   "source": [
    "# 建立模型\n",
    "clf = GradientBoostingClassifier(subsample=0.8)\n",
    "\n",
    "# 訓練模型\n",
    "clf.fit(x_train, y_train)\n",
    "\n",
    "# 預測測試集\n",
    "y_pred = clf.predict(x_test)\n",
    "\n",
    "acc = metrics.accuracy_score(y_test, y_pred)\n",
    "print(\"Accuracy: \", acc)\n",
    "\n",
    "metrics.confusion_matrix(y_test, y_pred)"
   ]
  },
  {
   "cell_type": "code",
   "execution_count": 9,
   "metadata": {},
   "outputs": [
    {
     "name": "stdout",
     "output_type": "stream",
     "text": [
      "Accuracy:  0.9711111111111111\n"
     ]
    },
    {
     "data": {
      "text/plain": [
       "array([[48,  0,  0,  0,  0,  0,  0,  0,  0,  0],\n",
       "       [ 1, 36,  1,  1,  0,  0,  0,  0,  0,  0],\n",
       "       [ 0,  0, 47,  1,  0,  0,  0,  0,  0,  0],\n",
       "       [ 0,  0,  0, 40,  0,  0,  1,  0,  1,  1],\n",
       "       [ 0,  0,  0,  0, 41,  1,  0,  0,  0,  0],\n",
       "       [ 0,  0,  0,  0,  0, 48,  0,  0,  0,  1],\n",
       "       [ 0,  1,  0,  0,  0,  0, 37,  0,  1,  0],\n",
       "       [ 0,  0,  0,  0,  0,  0,  0, 49,  0,  0],\n",
       "       [ 0,  0,  1,  0,  0,  0,  0,  0, 42,  0],\n",
       "       [ 0,  0,  0,  0,  0,  0,  0,  0,  1, 49]], dtype=int64)"
      ]
     },
     "execution_count": 9,
     "metadata": {},
     "output_type": "execute_result"
    }
   ],
   "source": [
    "# 建立模型\n",
    "clf = GradientBoostingClassifier(n_estimators=200, learning_rate=0.5)\n",
    "\n",
    "# 訓練模型\n",
    "clf.fit(x_train, y_train)\n",
    "\n",
    "# 預測測試集\n",
    "y_pred = clf.predict(x_test)\n",
    "\n",
    "acc = metrics.accuracy_score(y_test, y_pred)\n",
    "print(\"Accuracy: \", acc)\n",
    "\n",
    "metrics.confusion_matrix(y_test, y_pred)"
   ]
  },
  {
   "cell_type": "code",
   "execution_count": null,
   "metadata": {},
   "outputs": [],
   "source": []
  }
 ],
 "metadata": {
  "kernelspec": {
   "display_name": "Python 3",
   "language": "python",
   "name": "python3"
  },
  "language_info": {
   "codemirror_mode": {
    "name": "ipython",
    "version": 3
   },
   "file_extension": ".py",
   "mimetype": "text/x-python",
   "name": "python",
   "nbconvert_exporter": "python",
   "pygments_lexer": "ipython3",
   "version": "3.7.3"
  }
 },
 "nbformat": 4,
 "nbformat_minor": 2
}
