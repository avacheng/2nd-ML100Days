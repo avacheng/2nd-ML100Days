{
 "cells": [
  {
   "cell_type": "markdown",
   "metadata": {},
   "source": [
    "### 請觀看 Coursera Andrew Ng 教授的[影片](https://www.youtube.com/watch?time_continue=1&v=jAA2g9ItoAc)。影片裡會講授 unsupervised learning 概念，及會介紹很多其應用場景。\n",
    "- Clustering\n",
    "- Cocktail party problem algorithm\n",
    "\n",
    "\n",
    "\n",
    "# 作業\n",
    "### 試著想想看, 非監督學習是否有可能使用評價函數 (Metric) 來鑑別好壞呢?  \n",
    "(Hint : 可以分為 \"有目標值\" 與 \"無目標值\" 兩個方向思考)\n",
    "* 雖然非監督學習無法用監督學習的評價函數來判斷來鑑別模型好壞，但從分群結果可以比較群內點的差異性和群間差異性，來判斷群間是否充分分離，及群內的相似度為何"
   ]
  },
  {
   "cell_type": "code",
   "execution_count": null,
   "metadata": {
    "collapsed": true
   },
   "outputs": [],
   "source": []
  }
 ],
 "metadata": {
  "kernelspec": {
   "display_name": "Python 3",
   "language": "python",
   "name": "python3"
  },
  "language_info": {
   "codemirror_mode": {
    "name": "ipython",
    "version": 3
   },
   "file_extension": ".py",
   "mimetype": "text/x-python",
   "name": "python",
   "nbconvert_exporter": "python",
   "pygments_lexer": "ipython3",
   "version": "3.7.3"
  }
 },
 "nbformat": 4,
 "nbformat_minor": 1
}
