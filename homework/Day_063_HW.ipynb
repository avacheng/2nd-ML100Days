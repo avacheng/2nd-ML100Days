{
 "cells": [
  {
   "cell_type": "markdown",
   "metadata": {},
   "source": [
    "# 作業\n",
    "* 在精簡深度學習的方式上 : 卷積類神經 (CNN) 採用像素遠近，而遞歸類神經 (RNN) 採用著則是時間遠近\n",
    "* 那麼，既然有著類似的設計精神，兩者是否有可能互換應用呢?"
   ]
  },
  {
   "cell_type": "markdown",
   "metadata": {},
   "source": [
    "# Ans:\n",
    "雖然直觀上 CNN 和 RNN 抽取特徵值的方式不同，但是還是可以根據需求或應用場景進行改造    \n",
    "\n",
    "例如在處理具有時序性的 NLP 上使用 CNN 的話，可以將一維的文本信息輸入就轉換成了二維的輸入結構（字句長度\\*word embedding長度），在卷積層提取特徵滑動窗口從左到右滑動時就可以自然地保留時序的特徵（但不能加入pooling層）（ https://kknews.cc/tech/qv95jyg.html ）\n",
    "\n",
    "而在圖像分類上，也可以將圖像依照像素遠近拆成序列來進行分類（many-to-one RNN）（ https://blog.csdn.net/Gavin__Zhou/article/details/78777800 ）\n"
   ]
  },
  {
   "cell_type": "code",
   "execution_count": null,
   "metadata": {
    "collapsed": true
   },
   "outputs": [],
   "source": []
  }
 ],
 "metadata": {
  "kernelspec": {
   "display_name": "Python 3",
   "language": "python",
   "name": "python3"
  },
  "language_info": {
   "codemirror_mode": {
    "name": "ipython",
    "version": 3
   },
   "file_extension": ".py",
   "mimetype": "text/x-python",
   "name": "python",
   "nbconvert_exporter": "python",
   "pygments_lexer": "ipython3",
   "version": "3.7.3"
  }
 },
 "nbformat": 4,
 "nbformat_minor": 2
}
