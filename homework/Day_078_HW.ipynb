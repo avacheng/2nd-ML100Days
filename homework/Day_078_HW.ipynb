{
 "cells": [
  {
   "cell_type": "markdown",
   "metadata": {},
   "source": [
    "## Work\n",
    "1. 請嘗試將 preproc_x 替換成以每筆資料的 min/max 進行標準化至 -1 ~ 1 間，再進行訓練\n",
    "2. 請嘗試將 mlp 疊更深 (e.g 5~10 層)，進行訓練後觀察 learning curve 的走勢\n",
    "3. (optional) 請改用 GPU 進行訓練 (如果你有 GPU 的話)，比較使用 CPU 與 GPU 的訓練速度"
   ]
  },
  {
   "cell_type": "code",
   "execution_count": 1,
   "metadata": {},
   "outputs": [
    {
     "name": "stderr",
     "output_type": "stream",
     "text": [
      "Using TensorFlow backend.\n"
     ]
    },
    {
     "name": "stdout",
     "output_type": "stream",
     "text": [
      "['/job:localhost/replica:0/task:0/device:GPU:0']\n"
     ]
    }
   ],
   "source": [
    "## 確認硬體資源 (如果你是在 Linux, 若是在 Windows, 請參考 https://blog.csdn.net/idwtwt/article/details/78017565)\n",
    "#!nvidia-smi\n",
    "\n",
    "from keras import backend as K\n",
    "print(K.tensorflow_backend._get_available_gpus())"
   ]
  },
  {
   "cell_type": "code",
   "execution_count": 2,
   "metadata": {},
   "outputs": [],
   "source": [
    "import os\n",
    "import keras\n",
    "\n",
    "# 請嘗試設定 GPU：os.environ\n",
    "os.environ[\"CUDA_VISIBLE_DEVICES\"] = \"0\""
   ]
  },
  {
   "cell_type": "code",
   "execution_count": 3,
   "metadata": {},
   "outputs": [],
   "source": [
    "# 如果使用 GPU時，顯示卡分配記憶體空間遇到 Blas GEMM launch failed 錯誤\n",
    "# 比較保險是在模型訓練之前先分配好空間\n",
    "import tensorflow as tf\n",
    "from keras.backend.tensorflow_backend import set_session\n",
    "config = tf.ConfigProto()\n",
    "config.gpu_options.allocator_type = 'BFC' #A \"Best-fit with coalescing\" algorithm, simplified from a version of dlmalloc.\n",
    "config.gpu_options.per_process_gpu_memory_fraction = 0.3\n",
    "config.gpu_options.allow_growth = True\n",
    "set_session(tf.Session(config=config))"
   ]
  },
  {
   "cell_type": "code",
   "execution_count": 4,
   "metadata": {},
   "outputs": [],
   "source": [
    "train, test = keras.datasets.cifar10.load_data()"
   ]
  },
  {
   "cell_type": "code",
   "execution_count": 5,
   "metadata": {},
   "outputs": [],
   "source": [
    "## 資料前處理\n",
    "\"\"\"\n",
    "Your code here\n",
    "\"\"\"\n",
    "import numpy as np\n",
    "def preproc_x(x, flatten=True):\n",
    "    x = x / 255.\n",
    "    if flatten:\n",
    "        x = x.reshape((len(x), -1))\n",
    "    return x\n",
    "\n",
    "def preproc_x_MM(x, flatten=True):\n",
    "    maxvals = np.max(x, axis = (1, 2, 3))\n",
    "    maxvals = np.repeat(maxvals, np.prod(x.shape[1:])).reshape(x.shape)\n",
    "    minvals = np.min(x, axis = (1, 2, 3))\n",
    "    minvals = np.repeat(minvals, np.prod(x.shape[1:])).reshape(x.shape)\n",
    "    x = 2 * ((x-minvals)/(maxvals-minvals)-0.5)\n",
    "    if flatten:\n",
    "        x = x.reshape((len(x), -1))\n",
    "    return x\n",
    "\n",
    "def preproc_y(y, num_classes=10):\n",
    "    if y.shape[-1] == 1:\n",
    "        y = keras.utils.to_categorical(y, num_classes)\n",
    "    return y  "
   ]
  },
  {
   "cell_type": "markdown",
   "metadata": {},
   "source": [
    "# 1. 將 preproc_x 替換成以每筆資料的 min/max 進行標準化至 -1 ~ 1 間 (GPU)"
   ]
  },
  {
   "cell_type": "code",
   "execution_count": 6,
   "metadata": {},
   "outputs": [],
   "source": [
    "x_train, y_train = train\n",
    "x_test, y_test = test\n",
    "\n",
    "# Preproc the inputs\n",
    "x_train = preproc_x_MM(x_train)\n",
    "x_test = preproc_x_MM(x_test)\n",
    "\n",
    "# Preprc the outputs\n",
    "y_train = preproc_y(y_train)\n",
    "y_test = preproc_y(y_test)"
   ]
  },
  {
   "cell_type": "code",
   "execution_count": 7,
   "metadata": {},
   "outputs": [
    {
     "name": "stdout",
     "output_type": "stream",
     "text": [
      "_________________________________________________________________\n",
      "Layer (type)                 Output Shape              Param #   \n",
      "=================================================================\n",
      "input_1 (InputLayer)         (None, 3072)              0         \n",
      "_________________________________________________________________\n",
      "hidden_layer1 (Dense)        (None, 512)               1573376   \n",
      "_________________________________________________________________\n",
      "hidden_layer2 (Dense)        (None, 256)               131328    \n",
      "_________________________________________________________________\n",
      "hidden_layer3 (Dense)        (None, 128)               32896     \n",
      "_________________________________________________________________\n",
      "output (Dense)               (None, 10)                1290      \n",
      "=================================================================\n",
      "Total params: 1,738,890\n",
      "Trainable params: 1,738,890\n",
      "Non-trainable params: 0\n",
      "_________________________________________________________________\n"
     ]
    }
   ],
   "source": [
    "\"\"\"Code Here\n",
    "建立你的神經網路\n",
    "\"\"\"\n",
    "def build_mlp(input_shape, output_units=10, num_neurons=[512, 256, 128]):\n",
    "    input_layer = keras.layers.Input(input_shape)\n",
    "    \n",
    "    for i, n_units in enumerate(num_neurons):\n",
    "        if i == 0:\n",
    "            x = keras.layers.Dense(units=n_units, activation=\"relu\", name=\"hidden_layer\"+str(i+1))(input_layer)\n",
    "        else:\n",
    "            x = keras.layers.Dense(units=n_units, activation=\"relu\", name=\"hidden_layer\"+str(i+1))(x)\n",
    "    \n",
    "    out = keras.layers.Dense(units=output_units, activation=\"softmax\", name=\"output\")(x)\n",
    "    \n",
    "    model = keras.models.Model(inputs=[input_layer], outputs=[out])\n",
    "    return model\n",
    "\n",
    "model = build_mlp(input_shape=x_train.shape[1:])\n",
    "model.summary()"
   ]
  },
  {
   "cell_type": "code",
   "execution_count": 8,
   "metadata": {},
   "outputs": [],
   "source": [
    "## 超參數設定\n",
    "LEARNING_RATE = 0.001\n",
    "EPOCHS = 100\n",
    "BATCH_SIZE = 256"
   ]
  },
  {
   "cell_type": "code",
   "execution_count": 9,
   "metadata": {},
   "outputs": [],
   "source": [
    "optimizer = keras.optimizers.Adam(lr=LEARNING_RATE)\n",
    "model.compile(loss=\"categorical_crossentropy\", metrics=[\"accuracy\"], optimizer=optimizer)"
   ]
  },
  {
   "cell_type": "code",
   "execution_count": 10,
   "metadata": {},
   "outputs": [
    {
     "name": "stdout",
     "output_type": "stream",
     "text": [
      "Train on 50000 samples, validate on 10000 samples\n",
      "Epoch 1/100\n",
      "50000/50000 [==============================] - 6s 117us/step - loss: 1.6467 - acc: 0.4186 - val_loss: 1.5106 - val_acc: 0.4604\n",
      "Epoch 2/100\n",
      "50000/50000 [==============================] - 5s 104us/step - loss: 1.4195 - acc: 0.4967 - val_loss: 1.4222 - val_acc: 0.4926\n",
      "Epoch 3/100\n",
      "50000/50000 [==============================] - 5s 104us/step - loss: 1.2941 - acc: 0.5420 - val_loss: 1.3946 - val_acc: 0.5107\n",
      "Epoch 4/100\n",
      "50000/50000 [==============================] - 5s 103us/step - loss: 1.1993 - acc: 0.5764 - val_loss: 1.3757 - val_acc: 0.5231\n",
      "Epoch 5/100\n",
      "50000/50000 [==============================] - 5s 104us/step - loss: 1.1095 - acc: 0.6103 - val_loss: 1.3850 - val_acc: 0.5204\n",
      "Epoch 6/100\n",
      "50000/50000 [==============================] - 5s 103us/step - loss: 1.0223 - acc: 0.6402 - val_loss: 1.3876 - val_acc: 0.5317\n",
      "Epoch 7/100\n",
      "50000/50000 [==============================] - 5s 103us/step - loss: 0.9388 - acc: 0.6699 - val_loss: 1.3936 - val_acc: 0.5295\n",
      "Epoch 8/100\n",
      "50000/50000 [==============================] - 5s 103us/step - loss: 0.8661 - acc: 0.6951 - val_loss: 1.4163 - val_acc: 0.5374\n",
      "Epoch 9/100\n",
      "50000/50000 [==============================] - 5s 103us/step - loss: 0.7845 - acc: 0.7240 - val_loss: 1.4855 - val_acc: 0.5328\n",
      "Epoch 10/100\n",
      "50000/50000 [==============================] - 5s 103us/step - loss: 0.7017 - acc: 0.7530 - val_loss: 1.5407 - val_acc: 0.5390\n",
      "Epoch 11/100\n",
      "50000/50000 [==============================] - 5s 103us/step - loss: 0.6327 - acc: 0.7760 - val_loss: 1.6281 - val_acc: 0.5334\n",
      "Epoch 12/100\n",
      "50000/50000 [==============================] - 5s 104us/step - loss: 0.5669 - acc: 0.8018 - val_loss: 1.6872 - val_acc: 0.5311\n",
      "Epoch 13/100\n",
      "50000/50000 [==============================] - 5s 102us/step - loss: 0.5011 - acc: 0.8240 - val_loss: 1.8118 - val_acc: 0.5282\n",
      "Epoch 14/100\n",
      "50000/50000 [==============================] - 5s 102us/step - loss: 0.4513 - acc: 0.8413 - val_loss: 1.9138 - val_acc: 0.5274\n",
      "Epoch 15/100\n",
      "50000/50000 [==============================] - 5s 103us/step - loss: 0.4022 - acc: 0.8598 - val_loss: 2.0122 - val_acc: 0.5259\n",
      "Epoch 16/100\n",
      "50000/50000 [==============================] - 5s 104us/step - loss: 0.3550 - acc: 0.8769 - val_loss: 2.0623 - val_acc: 0.5247\n",
      "Epoch 17/100\n",
      "50000/50000 [==============================] - 5s 104us/step - loss: 0.3198 - acc: 0.8885 - val_loss: 2.2196 - val_acc: 0.5252\n",
      "Epoch 18/100\n",
      "50000/50000 [==============================] - 5s 103us/step - loss: 0.2764 - acc: 0.9036 - val_loss: 2.2952 - val_acc: 0.5307\n",
      "Epoch 19/100\n",
      "50000/50000 [==============================] - 5s 103us/step - loss: 0.2622 - acc: 0.9088 - val_loss: 2.4222 - val_acc: 0.5175\n",
      "Epoch 20/100\n",
      "50000/50000 [==============================] - 5s 103us/step - loss: 0.2362 - acc: 0.9171 - val_loss: 2.5634 - val_acc: 0.5267\n",
      "Epoch 21/100\n",
      "50000/50000 [==============================] - 5s 105us/step - loss: 0.2099 - acc: 0.9273 - val_loss: 2.6187 - val_acc: 0.5236\n",
      "Epoch 22/100\n",
      "50000/50000 [==============================] - 5s 102us/step - loss: 0.2159 - acc: 0.9253 - val_loss: 2.6705 - val_acc: 0.5258\n",
      "Epoch 23/100\n",
      "50000/50000 [==============================] - 5s 102us/step - loss: 0.2021 - acc: 0.9302 - val_loss: 2.7243 - val_acc: 0.5277\n",
      "Epoch 24/100\n",
      "50000/50000 [==============================] - 5s 103us/step - loss: 0.1796 - acc: 0.9368 - val_loss: 2.8340 - val_acc: 0.5270\n",
      "Epoch 25/100\n",
      "50000/50000 [==============================] - 5s 103us/step - loss: 0.1717 - acc: 0.9406 - val_loss: 3.0042 - val_acc: 0.5185\n",
      "Epoch 26/100\n",
      "50000/50000 [==============================] - 5s 104us/step - loss: 0.1828 - acc: 0.9361 - val_loss: 2.9745 - val_acc: 0.5242\n",
      "Epoch 27/100\n",
      "50000/50000 [==============================] - 5s 103us/step - loss: 0.1602 - acc: 0.9441 - val_loss: 3.0354 - val_acc: 0.5252\n",
      "Epoch 28/100\n",
      "50000/50000 [==============================] - 5s 102us/step - loss: 0.1367 - acc: 0.9537 - val_loss: 3.1485 - val_acc: 0.5334\n",
      "Epoch 29/100\n",
      "50000/50000 [==============================] - 5s 103us/step - loss: 0.1349 - acc: 0.9531 - val_loss: 3.1419 - val_acc: 0.5225\n",
      "Epoch 30/100\n",
      "50000/50000 [==============================] - 5s 103us/step - loss: 0.1286 - acc: 0.9560 - val_loss: 3.2565 - val_acc: 0.5287\n",
      "Epoch 31/100\n",
      "50000/50000 [==============================] - 5s 103us/step - loss: 0.1667 - acc: 0.9435 - val_loss: 3.2412 - val_acc: 0.5274\n",
      "Epoch 32/100\n",
      "50000/50000 [==============================] - 5s 104us/step - loss: 0.1505 - acc: 0.9482 - val_loss: 3.2765 - val_acc: 0.5243\n",
      "Epoch 33/100\n",
      "50000/50000 [==============================] - 5s 103us/step - loss: 0.1382 - acc: 0.9521 - val_loss: 3.3334 - val_acc: 0.5319\n",
      "Epoch 34/100\n",
      "50000/50000 [==============================] - 5s 104us/step - loss: 0.1067 - acc: 0.9636 - val_loss: 3.4811 - val_acc: 0.5220\n",
      "Epoch 35/100\n",
      "50000/50000 [==============================] - 5s 103us/step - loss: 0.1314 - acc: 0.9549 - val_loss: 3.4142 - val_acc: 0.5229\n",
      "Epoch 36/100\n",
      "50000/50000 [==============================] - 5s 103us/step - loss: 0.1349 - acc: 0.9541 - val_loss: 3.4375 - val_acc: 0.5170\n",
      "Epoch 37/100\n",
      "50000/50000 [==============================] - 5s 103us/step - loss: 0.1507 - acc: 0.9498 - val_loss: 3.4651 - val_acc: 0.5328\n",
      "Epoch 38/100\n",
      "50000/50000 [==============================] - 5s 103us/step - loss: 0.1176 - acc: 0.9595 - val_loss: 3.5446 - val_acc: 0.5276\n",
      "Epoch 39/100\n",
      "50000/50000 [==============================] - 5s 103us/step - loss: 0.0929 - acc: 0.9686 - val_loss: 3.5147 - val_acc: 0.5289\n",
      "Epoch 40/100\n",
      "50000/50000 [==============================] - 5s 104us/step - loss: 0.1110 - acc: 0.9633 - val_loss: 3.5887 - val_acc: 0.5278\n",
      "Epoch 41/100\n",
      "50000/50000 [==============================] - 5s 103us/step - loss: 0.1281 - acc: 0.9570 - val_loss: 3.5956 - val_acc: 0.5251\n",
      "Epoch 42/100\n",
      "50000/50000 [==============================] - 5s 103us/step - loss: 0.1159 - acc: 0.9611 - val_loss: 3.6187 - val_acc: 0.5251\n",
      "Epoch 43/100\n",
      "50000/50000 [==============================] - 5s 103us/step - loss: 0.0836 - acc: 0.9724 - val_loss: 3.7071 - val_acc: 0.5258\n",
      "Epoch 44/100\n",
      "50000/50000 [==============================] - 5s 103us/step - loss: 0.0752 - acc: 0.9739 - val_loss: 3.7662 - val_acc: 0.5231\n",
      "Epoch 45/100\n",
      "50000/50000 [==============================] - 5s 103us/step - loss: 0.0839 - acc: 0.9723 - val_loss: 3.8290 - val_acc: 0.5207\n",
      "Epoch 46/100\n",
      "50000/50000 [==============================] - 5s 105us/step - loss: 0.1331 - acc: 0.9555 - val_loss: 3.8519 - val_acc: 0.5309\n",
      "Epoch 47/100\n",
      "50000/50000 [==============================] - 5s 103us/step - loss: 0.1487 - acc: 0.9517 - val_loss: 3.7088 - val_acc: 0.5253\n",
      "Epoch 48/100\n",
      "50000/50000 [==============================] - 5s 103us/step - loss: 0.1125 - acc: 0.9630 - val_loss: 3.7785 - val_acc: 0.5248\n",
      "Epoch 49/100\n",
      "50000/50000 [==============================] - 5s 103us/step - loss: 0.0934 - acc: 0.9680 - val_loss: 3.7705 - val_acc: 0.5229\n",
      "Epoch 50/100\n",
      "50000/50000 [==============================] - 5s 102us/step - loss: 0.0806 - acc: 0.9736 - val_loss: 3.7769 - val_acc: 0.5270\n",
      "Epoch 51/100\n",
      "50000/50000 [==============================] - 5s 102us/step - loss: 0.0644 - acc: 0.9788 - val_loss: 3.9096 - val_acc: 0.5241\n",
      "Epoch 52/100\n",
      "50000/50000 [==============================] - 5s 103us/step - loss: 0.0921 - acc: 0.9693 - val_loss: 3.9193 - val_acc: 0.5286\n",
      "Epoch 53/100\n",
      "50000/50000 [==============================] - 5s 103us/step - loss: 0.1314 - acc: 0.9574 - val_loss: 3.8904 - val_acc: 0.5171\n",
      "Epoch 54/100\n",
      "50000/50000 [==============================] - 5s 104us/step - loss: 0.1056 - acc: 0.9660 - val_loss: 3.9167 - val_acc: 0.5135\n",
      "Epoch 55/100\n",
      "50000/50000 [==============================] - 5s 104us/step - loss: 0.0795 - acc: 0.9738 - val_loss: 3.9401 - val_acc: 0.5198\n",
      "Epoch 56/100\n",
      "50000/50000 [==============================] - 5s 103us/step - loss: 0.0709 - acc: 0.9769 - val_loss: 4.0447 - val_acc: 0.5222\n",
      "Epoch 57/100\n",
      "50000/50000 [==============================] - 5s 103us/step - loss: 0.0804 - acc: 0.9734 - val_loss: 4.0936 - val_acc: 0.5229\n",
      "Epoch 58/100\n",
      "50000/50000 [==============================] - 5s 103us/step - loss: 0.1132 - acc: 0.9640 - val_loss: 4.0306 - val_acc: 0.5208\n",
      "Epoch 59/100\n"
     ]
    },
    {
     "name": "stdout",
     "output_type": "stream",
     "text": [
      "50000/50000 [==============================] - 5s 103us/step - loss: 0.0946 - acc: 0.9688 - val_loss: 4.0439 - val_acc: 0.5289\n",
      "Epoch 60/100\n",
      "50000/50000 [==============================] - 5s 103us/step - loss: 0.0878 - acc: 0.9715 - val_loss: 4.0375 - val_acc: 0.5249\n",
      "Epoch 61/100\n",
      "50000/50000 [==============================] - 5s 103us/step - loss: 0.0747 - acc: 0.9756 - val_loss: 4.0020 - val_acc: 0.5283\n",
      "Epoch 62/100\n",
      "50000/50000 [==============================] - 5s 104us/step - loss: 0.0651 - acc: 0.9778 - val_loss: 4.1402 - val_acc: 0.5243\n",
      "Epoch 63/100\n",
      "50000/50000 [==============================] - 5s 103us/step - loss: 0.0964 - acc: 0.9694 - val_loss: 4.1458 - val_acc: 0.5202\n",
      "Epoch 64/100\n",
      "50000/50000 [==============================] - 5s 104us/step - loss: 0.0980 - acc: 0.9686 - val_loss: 4.0667 - val_acc: 0.5160\n",
      "Epoch 65/100\n",
      "50000/50000 [==============================] - 5s 105us/step - loss: 0.0951 - acc: 0.9683 - val_loss: 4.0931 - val_acc: 0.5220\n",
      "Epoch 66/100\n",
      "50000/50000 [==============================] - 5s 103us/step - loss: 0.0717 - acc: 0.9772 - val_loss: 4.0006 - val_acc: 0.5266\n",
      "Epoch 67/100\n",
      "50000/50000 [==============================] - 5s 102us/step - loss: 0.0695 - acc: 0.9778 - val_loss: 4.2044 - val_acc: 0.5233\n",
      "Epoch 68/100\n",
      "50000/50000 [==============================] - 5s 104us/step - loss: 0.0751 - acc: 0.9760 - val_loss: 4.1693 - val_acc: 0.5271\n",
      "Epoch 69/100\n",
      "50000/50000 [==============================] - 5s 103us/step - loss: 0.0801 - acc: 0.9746 - val_loss: 4.1789 - val_acc: 0.5226\n",
      "Epoch 70/100\n",
      "50000/50000 [==============================] - 5s 103us/step - loss: 0.0784 - acc: 0.9751 - val_loss: 4.2222 - val_acc: 0.5306\n",
      "Epoch 71/100\n",
      "50000/50000 [==============================] - 5s 103us/step - loss: 0.0809 - acc: 0.9748 - val_loss: 4.1728 - val_acc: 0.5232\n",
      "Epoch 72/100\n",
      "50000/50000 [==============================] - 5s 104us/step - loss: 0.0951 - acc: 0.9707 - val_loss: 4.1410 - val_acc: 0.5244\n",
      "Epoch 73/100\n",
      "50000/50000 [==============================] - 5s 104us/step - loss: 0.0772 - acc: 0.9754 - val_loss: 4.2614 - val_acc: 0.5197\n",
      "Epoch 74/100\n",
      "50000/50000 [==============================] - 5s 102us/step - loss: 0.0790 - acc: 0.9757 - val_loss: 4.2632 - val_acc: 0.5230\n",
      "Epoch 75/100\n",
      "50000/50000 [==============================] - 5s 102us/step - loss: 0.0888 - acc: 0.9718 - val_loss: 4.2857 - val_acc: 0.5231\n",
      "Epoch 76/100\n",
      "50000/50000 [==============================] - 5s 102us/step - loss: 0.0621 - acc: 0.9802 - val_loss: 4.2181 - val_acc: 0.5351\n",
      "Epoch 77/100\n",
      "50000/50000 [==============================] - 5s 102us/step - loss: 0.0774 - acc: 0.9756 - val_loss: 4.2556 - val_acc: 0.5278\n",
      "Epoch 78/100\n",
      "50000/50000 [==============================] - 5s 102us/step - loss: 0.0744 - acc: 0.9760 - val_loss: 4.3027 - val_acc: 0.5288\n",
      "Epoch 79/100\n",
      "50000/50000 [==============================] - 5s 102us/step - loss: 0.0826 - acc: 0.9753 - val_loss: 4.2286 - val_acc: 0.5248\n",
      "Epoch 80/100\n",
      "50000/50000 [==============================] - 5s 102us/step - loss: 0.0779 - acc: 0.9768 - val_loss: 4.2164 - val_acc: 0.5266\n",
      "Epoch 81/100\n",
      "50000/50000 [==============================] - 5s 103us/step - loss: 0.0638 - acc: 0.9799 - val_loss: 4.2895 - val_acc: 0.5249\n",
      "Epoch 82/100\n",
      "50000/50000 [==============================] - 5s 102us/step - loss: 0.0661 - acc: 0.9789 - val_loss: 4.3253 - val_acc: 0.5241\n",
      "Epoch 83/100\n",
      "50000/50000 [==============================] - 5s 102us/step - loss: 0.0513 - acc: 0.9829 - val_loss: 4.3701 - val_acc: 0.5309\n",
      "Epoch 84/100\n",
      "50000/50000 [==============================] - 5s 102us/step - loss: 0.0786 - acc: 0.9758 - val_loss: 4.2727 - val_acc: 0.5165\n",
      "Epoch 85/100\n",
      "50000/50000 [==============================] - 5s 102us/step - loss: 0.0777 - acc: 0.9764 - val_loss: 4.3118 - val_acc: 0.5253\n",
      "Epoch 86/100\n",
      "50000/50000 [==============================] - 5s 102us/step - loss: 0.0857 - acc: 0.9738 - val_loss: 4.3848 - val_acc: 0.5286\n",
      "Epoch 87/100\n",
      "50000/50000 [==============================] - 5s 102us/step - loss: 0.0708 - acc: 0.9773 - val_loss: 4.2382 - val_acc: 0.5304\n",
      "Epoch 88/100\n",
      "50000/50000 [==============================] - 5s 104us/step - loss: 0.0467 - acc: 0.9853 - val_loss: 4.3120 - val_acc: 0.5293\n",
      "Epoch 89/100\n",
      "50000/50000 [==============================] - 5s 104us/step - loss: 0.0584 - acc: 0.9814 - val_loss: 4.3820 - val_acc: 0.5264\n",
      "Epoch 90/100\n",
      "50000/50000 [==============================] - 5s 103us/step - loss: 0.0503 - acc: 0.9839 - val_loss: 4.4976 - val_acc: 0.5231\n",
      "Epoch 91/100\n",
      "50000/50000 [==============================] - 5s 103us/step - loss: 0.0718 - acc: 0.9773 - val_loss: 4.3616 - val_acc: 0.5199\n",
      "Epoch 92/100\n",
      "50000/50000 [==============================] - 5s 103us/step - loss: 0.1036 - acc: 0.9688 - val_loss: 4.3019 - val_acc: 0.5269\n",
      "Epoch 93/100\n",
      "50000/50000 [==============================] - 5s 103us/step - loss: 0.0707 - acc: 0.9783 - val_loss: 4.4008 - val_acc: 0.5246\n",
      "Epoch 94/100\n",
      "50000/50000 [==============================] - 5s 102us/step - loss: 0.0687 - acc: 0.9790 - val_loss: 4.3984 - val_acc: 0.5327\n",
      "Epoch 95/100\n",
      "50000/50000 [==============================] - 5s 102us/step - loss: 0.0460 - acc: 0.9857 - val_loss: 4.4027 - val_acc: 0.5279\n",
      "Epoch 96/100\n",
      "50000/50000 [==============================] - 5s 102us/step - loss: 0.0391 - acc: 0.9872 - val_loss: 4.4548 - val_acc: 0.5314\n",
      "Epoch 97/100\n",
      "50000/50000 [==============================] - 5s 103us/step - loss: 0.0560 - acc: 0.9832 - val_loss: 4.4145 - val_acc: 0.5281\n",
      "Epoch 98/100\n",
      "50000/50000 [==============================] - 5s 103us/step - loss: 0.0747 - acc: 0.9768 - val_loss: 4.4114 - val_acc: 0.5257\n",
      "Epoch 99/100\n",
      "50000/50000 [==============================] - 5s 102us/step - loss: 0.0778 - acc: 0.9759 - val_loss: 4.4583 - val_acc: 0.5266\n",
      "Epoch 100/100\n",
      "50000/50000 [==============================] - 5s 102us/step - loss: 0.0772 - acc: 0.9769 - val_loss: 4.3538 - val_acc: 0.5219\n"
     ]
    },
    {
     "data": {
      "text/plain": [
       "<keras.callbacks.History at 0x1d41bfc9a20>"
      ]
     },
     "execution_count": 10,
     "metadata": {},
     "output_type": "execute_result"
    }
   ],
   "source": [
    "model.fit(x_train, y_train, \n",
    "          epochs=EPOCHS, \n",
    "          batch_size=BATCH_SIZE, \n",
    "          validation_data=(x_test, y_test), \n",
    "          shuffle=True)"
   ]
  },
  {
   "cell_type": "code",
   "execution_count": 11,
   "metadata": {},
   "outputs": [],
   "source": [
    "import matplotlib.pyplot as plt\n",
    "%matplotlib inline\n",
    "\n",
    "def plot_train_history(model):\n",
    "    train_loss = model.history.history[\"loss\"]\n",
    "    valid_loss = model.history.history[\"val_loss\"]\n",
    "\n",
    "    train_acc = model.history.history[\"acc\"]\n",
    "    valid_acc = model.history.history[\"val_acc\"]\n",
    "\n",
    "    plt.plot(range(len(train_loss)), train_loss, label=\"train loss\")\n",
    "    plt.plot(range(len(valid_loss)), valid_loss, label=\"valid loss\")\n",
    "    plt.legend()\n",
    "    plt.title(\"Loss\")\n",
    "    plt.show()\n",
    "\n",
    "    plt.plot(range(len(train_acc)), train_acc, label=\"train accuracy\")\n",
    "    plt.plot(range(len(valid_acc)), valid_acc, label=\"valid accuracy\")\n",
    "    plt.legend()\n",
    "    plt.title(\"Accuracy\")\n",
    "    plt.show()"
   ]
  },
  {
   "cell_type": "code",
   "execution_count": 12,
   "metadata": {},
   "outputs": [
    {
     "data": {
      "image/png": "[encoded data removed]",
      "text/plain": [
       "<Figure size 432x288 with 1 Axes>"
      ]
     },
     "metadata": {
      "needs_background": "light"
     },
     "output_type": "display_data"
    },
    {
     "data": {
      "image/png": "[encoded data removed]",
      "text/plain": [
       "<Figure size 432x288 with 1 Axes>"
      ]
     },
     "metadata": {
      "needs_background": "light"
     },
     "output_type": "display_data"
    }
   ],
   "source": [
    "plot_train_history(model)"
   ]
  },
  {
   "cell_type": "markdown",
   "metadata": {},
   "source": [
    "# 2. 將 mlp 疊更深 (e.g 5~10 層)，進行訓練後觀察 learning curve 的走勢 (GPU)"
   ]
  },
  {
   "cell_type": "code",
   "execution_count": 13,
   "metadata": {},
   "outputs": [],
   "source": [
    "x_train, y_train = train\n",
    "x_test, y_test = test\n",
    "\n",
    "# Preproc the inputs\n",
    "x_train = preproc_x(x_train)\n",
    "x_test = preproc_x(x_test)\n",
    "\n",
    "# Preprc the outputs\n",
    "y_train = preproc_y(y_train)\n",
    "y_test = preproc_y(y_test)"
   ]
  },
  {
   "cell_type": "code",
   "execution_count": 14,
   "metadata": {},
   "outputs": [
    {
     "name": "stdout",
     "output_type": "stream",
     "text": [
      "_________________________________________________________________\n",
      "Layer (type)                 Output Shape              Param #   \n",
      "=================================================================\n",
      "input_2 (InputLayer)         (None, 3072)              0         \n",
      "_________________________________________________________________\n",
      "hidden_layer1 (Dense)        (None, 512)               1573376   \n",
      "_________________________________________________________________\n",
      "hidden_layer2 (Dense)        (None, 256)               131328    \n",
      "_________________________________________________________________\n",
      "hidden_layer3 (Dense)        (None, 128)               32896     \n",
      "_________________________________________________________________\n",
      "hidden_layer4 (Dense)        (None, 64)                8256      \n",
      "_________________________________________________________________\n",
      "hidden_layer5 (Dense)        (None, 32)                2080      \n",
      "_________________________________________________________________\n",
      "output (Dense)               (None, 10)                330       \n",
      "=================================================================\n",
      "Total params: 1,748,266\n",
      "Trainable params: 1,748,266\n",
      "Non-trainable params: 0\n",
      "_________________________________________________________________\n"
     ]
    }
   ],
   "source": [
    "\"\"\"Code Here\n",
    "建立你的神經網路\n",
    "\"\"\"\n",
    "def build_mlp2(input_shape, output_units=10, num_neurons=[512, 256, 128, 64, 32]):\n",
    "    input_layer = keras.layers.Input(input_shape)\n",
    "    \n",
    "    for i, n_units in enumerate(num_neurons):\n",
    "        if i == 0:\n",
    "            x = keras.layers.Dense(units=n_units, activation=\"relu\", name=\"hidden_layer\"+str(i+1))(input_layer)\n",
    "        else:\n",
    "            x = keras.layers.Dense(units=n_units, activation=\"relu\", name=\"hidden_layer\"+str(i+1))(x)\n",
    "    \n",
    "    out = keras.layers.Dense(units=output_units, activation=\"softmax\", name=\"output\")(x)\n",
    "    \n",
    "    model = keras.models.Model(inputs=[input_layer], outputs=[out])\n",
    "    return model\n",
    "\n",
    "model2 = build_mlp2(input_shape=x_train.shape[1:])\n",
    "model2.summary()"
   ]
  },
  {
   "cell_type": "code",
   "execution_count": 15,
   "metadata": {},
   "outputs": [],
   "source": [
    "optimizer = keras.optimizers.Adam(lr=LEARNING_RATE)\n",
    "model2.compile(loss=\"categorical_crossentropy\", metrics=[\"accuracy\"], optimizer=optimizer)"
   ]
  },
  {
   "cell_type": "code",
   "execution_count": 16,
   "metadata": {},
   "outputs": [
    {
     "name": "stdout",
     "output_type": "stream",
     "text": [
      "Train on 50000 samples, validate on 10000 samples\n",
      "Epoch 1/100\n",
      "50000/50000 [==============================] - 6s 128us/step - loss: 1.9843 - acc: 0.2689 - val_loss: 1.8456 - val_acc: 0.3297\n",
      "Epoch 2/100\n",
      "50000/50000 [==============================] - 5s 105us/step - loss: 1.7576 - acc: 0.3659 - val_loss: 1.7658 - val_acc: 0.3669\n",
      "Epoch 3/100\n",
      "50000/50000 [==============================] - 5s 104us/step - loss: 1.6556 - acc: 0.4072 - val_loss: 1.5912 - val_acc: 0.4325\n",
      "Epoch 4/100\n",
      "50000/50000 [==============================] - 5s 105us/step - loss: 1.5866 - acc: 0.4310 - val_loss: 1.5741 - val_acc: 0.4391\n",
      "Epoch 5/100\n",
      "50000/50000 [==============================] - 5s 104us/step - loss: 1.5374 - acc: 0.4491 - val_loss: 1.5634 - val_acc: 0.4410\n",
      "Epoch 6/100\n",
      "50000/50000 [==============================] - 5s 106us/step - loss: 1.4831 - acc: 0.4682 - val_loss: 1.4670 - val_acc: 0.4762\n",
      "Epoch 7/100\n",
      "50000/50000 [==============================] - 5s 107us/step - loss: 1.4592 - acc: 0.4791 - val_loss: 1.4944 - val_acc: 0.4681\n",
      "Epoch 8/100\n",
      "50000/50000 [==============================] - 5s 105us/step - loss: 1.4236 - acc: 0.4915 - val_loss: 1.5147 - val_acc: 0.4601\n",
      "Epoch 9/100\n",
      "50000/50000 [==============================] - 5s 104us/step - loss: 1.4074 - acc: 0.4970 - val_loss: 1.5251 - val_acc: 0.4597\n",
      "Epoch 10/100\n",
      "50000/50000 [==============================] - 5s 104us/step - loss: 1.3740 - acc: 0.5101 - val_loss: 1.4342 - val_acc: 0.4874\n",
      "Epoch 11/100\n",
      "50000/50000 [==============================] - 5s 103us/step - loss: 1.3466 - acc: 0.5180 - val_loss: 1.4072 - val_acc: 0.4931\n",
      "Epoch 12/100\n",
      "50000/50000 [==============================] - 5s 105us/step - loss: 1.3351 - acc: 0.5243 - val_loss: 1.4679 - val_acc: 0.4778\n",
      "Epoch 13/100\n",
      "50000/50000 [==============================] - 5s 107us/step - loss: 1.3100 - acc: 0.5344 - val_loss: 1.3949 - val_acc: 0.5038\n",
      "Epoch 14/100\n",
      "50000/50000 [==============================] - 5s 107us/step - loss: 1.2840 - acc: 0.5420 - val_loss: 1.4285 - val_acc: 0.4957\n",
      "Epoch 15/100\n",
      "50000/50000 [==============================] - 5s 106us/step - loss: 1.2663 - acc: 0.5483 - val_loss: 1.3923 - val_acc: 0.5133\n",
      "Epoch 16/100\n",
      "50000/50000 [==============================] - 5s 107us/step - loss: 1.2413 - acc: 0.5571 - val_loss: 1.3653 - val_acc: 0.5203\n",
      "Epoch 17/100\n",
      "50000/50000 [==============================] - 5s 107us/step - loss: 1.2208 - acc: 0.5621 - val_loss: 1.3919 - val_acc: 0.5045\n",
      "Epoch 18/100\n",
      "50000/50000 [==============================] - 5s 107us/step - loss: 1.2034 - acc: 0.5678 - val_loss: 1.3726 - val_acc: 0.5130\n",
      "Epoch 19/100\n",
      "50000/50000 [==============================] - 5s 107us/step - loss: 1.1802 - acc: 0.5787 - val_loss: 1.3690 - val_acc: 0.5193\n",
      "Epoch 20/100\n",
      "50000/50000 [==============================] - 5s 107us/step - loss: 1.1635 - acc: 0.5836 - val_loss: 1.3951 - val_acc: 0.5160\n",
      "Epoch 21/100\n",
      "50000/50000 [==============================] - 5s 107us/step - loss: 1.1389 - acc: 0.5946 - val_loss: 1.3855 - val_acc: 0.5176\n",
      "Epoch 22/100\n",
      "50000/50000 [==============================] - 5s 107us/step - loss: 1.1304 - acc: 0.5981 - val_loss: 1.3961 - val_acc: 0.5108\n",
      "Epoch 23/100\n",
      "50000/50000 [==============================] - 5s 107us/step - loss: 1.1091 - acc: 0.6046 - val_loss: 1.4122 - val_acc: 0.5149\n",
      "Epoch 24/100\n",
      "50000/50000 [==============================] - 5s 106us/step - loss: 1.0948 - acc: 0.6087 - val_loss: 1.3762 - val_acc: 0.5220\n",
      "Epoch 25/100\n",
      "50000/50000 [==============================] - 5s 107us/step - loss: 1.0607 - acc: 0.6216 - val_loss: 1.4467 - val_acc: 0.5072\n",
      "Epoch 26/100\n",
      "50000/50000 [==============================] - 5s 107us/step - loss: 1.0525 - acc: 0.6248 - val_loss: 1.4045 - val_acc: 0.5303\n",
      "Epoch 27/100\n",
      "50000/50000 [==============================] - 5s 107us/step - loss: 1.0367 - acc: 0.6275 - val_loss: 1.3978 - val_acc: 0.5300\n",
      "Epoch 28/100\n",
      "50000/50000 [==============================] - 5s 107us/step - loss: 1.0271 - acc: 0.6306 - val_loss: 1.4390 - val_acc: 0.5224\n",
      "Epoch 29/100\n",
      "50000/50000 [==============================] - 5s 108us/step - loss: 1.0065 - acc: 0.6396 - val_loss: 1.4224 - val_acc: 0.5289\n",
      "Epoch 30/100\n",
      "50000/50000 [==============================] - 5s 107us/step - loss: 0.9781 - acc: 0.6494 - val_loss: 1.4274 - val_acc: 0.5202\n",
      "Epoch 31/100\n",
      "50000/50000 [==============================] - 5s 108us/step - loss: 0.9762 - acc: 0.6521 - val_loss: 1.4515 - val_acc: 0.5225\n",
      "Epoch 32/100\n",
      "50000/50000 [==============================] - 5s 107us/step - loss: 0.9641 - acc: 0.6561 - val_loss: 1.4624 - val_acc: 0.5171\n",
      "Epoch 33/100\n",
      "50000/50000 [==============================] - 5s 107us/step - loss: 0.9318 - acc: 0.6664 - val_loss: 1.4622 - val_acc: 0.5270\n",
      "Epoch 34/100\n",
      "50000/50000 [==============================] - 5s 106us/step - loss: 0.9163 - acc: 0.6725 - val_loss: 1.4820 - val_acc: 0.5258\n",
      "Epoch 35/100\n",
      "50000/50000 [==============================] - 5s 107us/step - loss: 0.9004 - acc: 0.6766 - val_loss: 1.4615 - val_acc: 0.5253\n",
      "Epoch 36/100\n",
      "50000/50000 [==============================] - 5s 108us/step - loss: 0.8842 - acc: 0.6836 - val_loss: 1.4711 - val_acc: 0.5367\n",
      "Epoch 37/100\n",
      "50000/50000 [==============================] - 5s 108us/step - loss: 0.8695 - acc: 0.6874 - val_loss: 1.5151 - val_acc: 0.5187\n",
      "Epoch 38/100\n",
      "50000/50000 [==============================] - 5s 107us/step - loss: 0.8607 - acc: 0.6896 - val_loss: 1.5178 - val_acc: 0.5176\n",
      "Epoch 39/100\n",
      "50000/50000 [==============================] - 5s 109us/step - loss: 0.8454 - acc: 0.6967 - val_loss: 1.5863 - val_acc: 0.5172\n",
      "Epoch 40/100\n",
      "50000/50000 [==============================] - 5s 107us/step - loss: 0.8295 - acc: 0.7039 - val_loss: 1.5348 - val_acc: 0.5241\n",
      "Epoch 41/100\n",
      "50000/50000 [==============================] - 5s 109us/step - loss: 0.8111 - acc: 0.7078 - val_loss: 1.5922 - val_acc: 0.5219\n",
      "Epoch 42/100\n",
      "50000/50000 [==============================] - 5s 108us/step - loss: 0.7881 - acc: 0.7187 - val_loss: 1.5867 - val_acc: 0.5259\n",
      "Epoch 43/100\n",
      "50000/50000 [==============================] - 5s 107us/step - loss: 0.7738 - acc: 0.7232 - val_loss: 1.5894 - val_acc: 0.5217\n",
      "Epoch 44/100\n",
      "50000/50000 [==============================] - 5s 107us/step - loss: 0.7693 - acc: 0.7222 - val_loss: 1.6963 - val_acc: 0.5064\n",
      "Epoch 45/100\n",
      "50000/50000 [==============================] - 5s 107us/step - loss: 0.7584 - acc: 0.7280 - val_loss: 1.6473 - val_acc: 0.5132\n",
      "Epoch 46/100\n",
      "50000/50000 [==============================] - 5s 106us/step - loss: 0.7443 - acc: 0.7344 - val_loss: 1.6612 - val_acc: 0.5164\n",
      "Epoch 47/100\n",
      "50000/50000 [==============================] - 5s 106us/step - loss: 0.7236 - acc: 0.7413 - val_loss: 1.6845 - val_acc: 0.5189\n",
      "Epoch 48/100\n",
      "50000/50000 [==============================] - 5s 106us/step - loss: 0.7228 - acc: 0.7413 - val_loss: 1.7161 - val_acc: 0.5219\n",
      "Epoch 49/100\n",
      "50000/50000 [==============================] - 5s 106us/step - loss: 0.6998 - acc: 0.7485 - val_loss: 1.7256 - val_acc: 0.5202\n",
      "Epoch 50/100\n",
      "50000/50000 [==============================] - 5s 106us/step - loss: 0.6864 - acc: 0.7531 - val_loss: 1.7583 - val_acc: 0.5145\n",
      "Epoch 51/100\n",
      "50000/50000 [==============================] - 5s 106us/step - loss: 0.6900 - acc: 0.7526 - val_loss: 1.7248 - val_acc: 0.5171\n",
      "Epoch 52/100\n",
      "50000/50000 [==============================] - 5s 106us/step - loss: 0.6583 - acc: 0.7639 - val_loss: 1.7809 - val_acc: 0.5198\n",
      "Epoch 53/100\n",
      "50000/50000 [==============================] - 5s 106us/step - loss: 0.6459 - acc: 0.7685 - val_loss: 1.8639 - val_acc: 0.5127\n",
      "Epoch 54/100\n",
      "50000/50000 [==============================] - 5s 106us/step - loss: 0.6429 - acc: 0.7697 - val_loss: 1.8742 - val_acc: 0.5117\n",
      "Epoch 55/100\n",
      "50000/50000 [==============================] - 5s 106us/step - loss: 0.6475 - acc: 0.7689 - val_loss: 1.9111 - val_acc: 0.5182\n",
      "Epoch 56/100\n",
      "50000/50000 [==============================] - 5s 106us/step - loss: 0.6299 - acc: 0.7729 - val_loss: 1.8756 - val_acc: 0.5179\n",
      "Epoch 57/100\n",
      "50000/50000 [==============================] - 5s 106us/step - loss: 0.6076 - acc: 0.7823 - val_loss: 1.9179 - val_acc: 0.5094\n",
      "Epoch 58/100\n",
      "50000/50000 [==============================] - 5s 106us/step - loss: 0.5821 - acc: 0.7901 - val_loss: 1.9622 - val_acc: 0.5113\n",
      "Epoch 59/100\n"
     ]
    },
    {
     "name": "stdout",
     "output_type": "stream",
     "text": [
      "50000/50000 [==============================] - 5s 106us/step - loss: 0.5799 - acc: 0.7915 - val_loss: 2.0320 - val_acc: 0.5172\n",
      "Epoch 60/100\n",
      "50000/50000 [==============================] - 5s 107us/step - loss: 0.5975 - acc: 0.7844 - val_loss: 2.0033 - val_acc: 0.5226\n",
      "Epoch 61/100\n",
      "50000/50000 [==============================] - 5s 106us/step - loss: 0.5699 - acc: 0.7929 - val_loss: 1.9759 - val_acc: 0.5104\n",
      "Epoch 62/100\n",
      "50000/50000 [==============================] - 5s 106us/step - loss: 0.5647 - acc: 0.7969 - val_loss: 2.0278 - val_acc: 0.5079\n",
      "Epoch 63/100\n",
      "50000/50000 [==============================] - 5s 106us/step - loss: 0.5410 - acc: 0.8042 - val_loss: 2.0594 - val_acc: 0.5153\n",
      "Epoch 64/100\n",
      "50000/50000 [==============================] - 5s 106us/step - loss: 0.5331 - acc: 0.8084 - val_loss: 2.0826 - val_acc: 0.5073\n",
      "Epoch 65/100\n",
      "50000/50000 [==============================] - 5s 106us/step - loss: 0.5237 - acc: 0.8120 - val_loss: 2.1026 - val_acc: 0.5136\n",
      "Epoch 66/100\n",
      "50000/50000 [==============================] - 5s 106us/step - loss: 0.5242 - acc: 0.8108 - val_loss: 2.0747 - val_acc: 0.5131\n",
      "Epoch 67/100\n",
      "50000/50000 [==============================] - 5s 106us/step - loss: 0.5263 - acc: 0.8084 - val_loss: 2.2296 - val_acc: 0.5125\n",
      "Epoch 68/100\n",
      "50000/50000 [==============================] - 5s 106us/step - loss: 0.5091 - acc: 0.8171 - val_loss: 2.2662 - val_acc: 0.5048\n",
      "Epoch 69/100\n",
      "50000/50000 [==============================] - 5s 106us/step - loss: 0.5093 - acc: 0.8171 - val_loss: 2.2211 - val_acc: 0.5144\n",
      "Epoch 70/100\n",
      "50000/50000 [==============================] - 5s 106us/step - loss: 0.5142 - acc: 0.8156 - val_loss: 2.2131 - val_acc: 0.5120\n",
      "Epoch 71/100\n",
      "50000/50000 [==============================] - 5s 106us/step - loss: 0.4855 - acc: 0.8252 - val_loss: 2.2567 - val_acc: 0.5048\n",
      "Epoch 72/100\n",
      "50000/50000 [==============================] - 5s 106us/step - loss: 0.4799 - acc: 0.8273 - val_loss: 2.2929 - val_acc: 0.5139\n",
      "Epoch 73/100\n",
      "50000/50000 [==============================] - 5s 106us/step - loss: 0.4787 - acc: 0.8298 - val_loss: 2.2851 - val_acc: 0.5087\n",
      "Epoch 74/100\n",
      "50000/50000 [==============================] - 5s 106us/step - loss: 0.4538 - acc: 0.8367 - val_loss: 2.3667 - val_acc: 0.5087\n",
      "Epoch 75/100\n",
      "50000/50000 [==============================] - 5s 105us/step - loss: 0.4613 - acc: 0.8340 - val_loss: 2.3035 - val_acc: 0.5129\n",
      "Epoch 76/100\n",
      "50000/50000 [==============================] - 5s 106us/step - loss: 0.4680 - acc: 0.8319 - val_loss: 2.3888 - val_acc: 0.5071\n",
      "Epoch 77/100\n",
      "50000/50000 [==============================] - 5s 106us/step - loss: 0.4436 - acc: 0.8404 - val_loss: 2.3979 - val_acc: 0.5012\n",
      "Epoch 78/100\n",
      "50000/50000 [==============================] - 5s 106us/step - loss: 0.4419 - acc: 0.8407 - val_loss: 2.4244 - val_acc: 0.5091\n",
      "Epoch 79/100\n",
      "50000/50000 [==============================] - 5s 105us/step - loss: 0.4365 - acc: 0.8420 - val_loss: 2.4968 - val_acc: 0.5021\n",
      "Epoch 80/100\n",
      "50000/50000 [==============================] - 5s 105us/step - loss: 0.4365 - acc: 0.8433 - val_loss: 2.4563 - val_acc: 0.5044\n",
      "Epoch 81/100\n",
      "50000/50000 [==============================] - 5s 106us/step - loss: 0.4195 - acc: 0.8479 - val_loss: 2.5218 - val_acc: 0.5046\n",
      "Epoch 82/100\n",
      "50000/50000 [==============================] - 5s 106us/step - loss: 0.4300 - acc: 0.8462 - val_loss: 2.4966 - val_acc: 0.5047\n",
      "Epoch 83/100\n",
      "50000/50000 [==============================] - 5s 106us/step - loss: 0.4057 - acc: 0.8535 - val_loss: 2.5270 - val_acc: 0.5063\n",
      "Epoch 84/100\n",
      "50000/50000 [==============================] - 5s 106us/step - loss: 0.3908 - acc: 0.8605 - val_loss: 2.6294 - val_acc: 0.4938\n",
      "Epoch 85/100\n",
      "50000/50000 [==============================] - 5s 105us/step - loss: 0.4209 - acc: 0.8474 - val_loss: 2.5369 - val_acc: 0.5077\n",
      "Epoch 86/100\n",
      "50000/50000 [==============================] - 5s 105us/step - loss: 0.3998 - acc: 0.8559 - val_loss: 2.5835 - val_acc: 0.5126\n",
      "Epoch 87/100\n",
      "50000/50000 [==============================] - 5s 105us/step - loss: 0.3777 - acc: 0.8649 - val_loss: 2.5856 - val_acc: 0.5074\n",
      "Epoch 88/100\n",
      "50000/50000 [==============================] - 5s 106us/step - loss: 0.3891 - acc: 0.8592 - val_loss: 2.6686 - val_acc: 0.4937\n",
      "Epoch 89/100\n",
      "50000/50000 [==============================] - 5s 106us/step - loss: 0.4016 - acc: 0.8562 - val_loss: 2.6928 - val_acc: 0.5106\n",
      "Epoch 90/100\n",
      "50000/50000 [==============================] - 5s 106us/step - loss: 0.3518 - acc: 0.8747 - val_loss: 2.8601 - val_acc: 0.5025\n",
      "Epoch 91/100\n",
      "50000/50000 [==============================] - 5s 106us/step - loss: 0.3758 - acc: 0.8650 - val_loss: 2.7124 - val_acc: 0.5050\n",
      "Epoch 92/100\n",
      "50000/50000 [==============================] - 5s 105us/step - loss: 0.4009 - acc: 0.8557 - val_loss: 2.7050 - val_acc: 0.5024\n",
      "Epoch 93/100\n",
      "50000/50000 [==============================] - 5s 107us/step - loss: 0.3763 - acc: 0.8644 - val_loss: 2.6571 - val_acc: 0.5106\n",
      "Epoch 94/100\n",
      "50000/50000 [==============================] - 5s 105us/step - loss: 0.3479 - acc: 0.8754 - val_loss: 2.8281 - val_acc: 0.5075\n",
      "Epoch 95/100\n",
      "50000/50000 [==============================] - 5s 106us/step - loss: 0.3463 - acc: 0.8762 - val_loss: 2.9256 - val_acc: 0.5002\n",
      "Epoch 96/100\n",
      "50000/50000 [==============================] - 5s 106us/step - loss: 0.3590 - acc: 0.8715 - val_loss: 2.8540 - val_acc: 0.4970\n",
      "Epoch 97/100\n",
      "50000/50000 [==============================] - 5s 105us/step - loss: 0.3636 - acc: 0.8703 - val_loss: 2.8538 - val_acc: 0.5060\n",
      "Epoch 98/100\n",
      "50000/50000 [==============================] - 5s 106us/step - loss: 0.3407 - acc: 0.8781 - val_loss: 2.9253 - val_acc: 0.4980\n",
      "Epoch 99/100\n",
      "50000/50000 [==============================] - 5s 106us/step - loss: 0.3424 - acc: 0.8772 - val_loss: 2.9588 - val_acc: 0.4953\n",
      "Epoch 100/100\n",
      "50000/50000 [==============================] - 5s 106us/step - loss: 0.3609 - acc: 0.8696 - val_loss: 2.8818 - val_acc: 0.4972\n"
     ]
    },
    {
     "data": {
      "text/plain": [
       "<keras.callbacks.History at 0x1d458a81160>"
      ]
     },
     "execution_count": 16,
     "metadata": {},
     "output_type": "execute_result"
    }
   ],
   "source": [
    "model2.fit(x_train, y_train, \n",
    "          epochs=EPOCHS, \n",
    "          batch_size=BATCH_SIZE, \n",
    "          validation_data=(x_test, y_test), \n",
    "          shuffle=True)"
   ]
  },
  {
   "cell_type": "code",
   "execution_count": 17,
   "metadata": {},
   "outputs": [
    {
     "data": {
      "image/png": "[encoded data removed]",
      "text/plain": [
       "<Figure size 432x288 with 1 Axes>"
      ]
     },
     "metadata": {
      "needs_background": "light"
     },
     "output_type": "display_data"
    },
    {
     "data": {
      "image/png": "[encoded data removed]",
      "text/plain": [
       "<Figure size 432x288 with 1 Axes>"
      ]
     },
     "metadata": {
      "needs_background": "light"
     },
     "output_type": "display_data"
    }
   ],
   "source": [
    "plot_train_history(model2)"
   ]
  },
  {
   "cell_type": "code",
   "execution_count": null,
   "metadata": {},
   "outputs": [],
   "source": []
  },
  {
   "cell_type": "markdown",
   "metadata": {},
   "source": [
    "# 範例檔結果 (CPU)"
   ]
  },
  {
   "cell_type": "markdown",
   "metadata": {},
   "source": [
    "## 範例重點\n",
    "### 學習在模型開始前檢查各個環節\n",
    "1. 是否有 GPU 資源\n",
    "2. 將前處理轉為函式，統一處理訓練、驗證與測試集\n",
    "3. 將超參數變數化，易於重複使用函式、模型等"
   ]
  },
  {
   "cell_type": "code",
   "execution_count": 1,
   "metadata": {},
   "outputs": [
    {
     "name": "stderr",
     "output_type": "stream",
     "text": [
      "Using TensorFlow backend.\n"
     ]
    },
    {
     "name": "stdout",
     "output_type": "stream",
     "text": [
      "[]\n"
     ]
    }
   ],
   "source": [
    "## 確認硬體資源 (如果你是在 Linux, 若是在 Windows, 請參考 https://blog.csdn.net/idwtwt/article/details/78017565)\n",
    "#!nvidia-smi\n",
    "\n",
    "from keras import backend as K\n",
    "print(K.tensorflow_backend._get_available_gpus())"
   ]
  },
  {
   "cell_type": "code",
   "execution_count": 2,
   "metadata": {},
   "outputs": [],
   "source": [
    "# 如果使用 GPU時，顯示卡分配記憶體空間遇到 Blas GEMM launch failed 錯誤\n",
    "# 比較保險是在模型訓練之前先分配好空間\n",
    "import tensorflow as tf\n",
    "from keras.backend.tensorflow_backend import set_session\n",
    "config = tf.ConfigProto()\n",
    "config.gpu_options.allocator_type = 'BFC' #A \"Best-fit with coalescing\" algorithm, simplified from a version of dlmalloc.\n",
    "config.gpu_options.per_process_gpu_memory_fraction = 0.3\n",
    "config.gpu_options.allow_growth = True\n",
    "set_session(tf.Session(config=config))"
   ]
  },
  {
   "cell_type": "code",
   "execution_count": 3,
   "metadata": {},
   "outputs": [],
   "source": [
    "import os\n",
    "import keras\n",
    "\n",
    "# 本範例不需使用 GPU, 將 GPU 設定為 \"無\"\n",
    "os.environ[\"CUDA_VISIBLE_DEVICES\"] = \"\""
   ]
  },
  {
   "cell_type": "code",
   "execution_count": 4,
   "metadata": {},
   "outputs": [],
   "source": [
    "# 從 Keras 的內建功能中，取得 train 與 test 資料集\n",
    "train, test = keras.datasets.cifar10.load_data()"
   ]
  },
  {
   "cell_type": "code",
   "execution_count": 5,
   "metadata": {},
   "outputs": [],
   "source": [
    "## 資料前處理\n",
    "def preproc_x(x, flatten=True):\n",
    "    x = x / 255.\n",
    "    if flatten:\n",
    "        x = x.reshape((len(x), -1))\n",
    "    return x\n",
    "\n",
    "def preproc_y(y, num_classes=10):\n",
    "    if y.shape[-1] == 1:\n",
    "        y = keras.utils.to_categorical(y, num_classes)\n",
    "    return y    "
   ]
  },
  {
   "cell_type": "code",
   "execution_count": 6,
   "metadata": {},
   "outputs": [],
   "source": [
    "x_train, y_train = train\n",
    "x_test, y_test = test\n",
    "\n",
    "# 資料前處理 - X 標準化\n",
    "x_train = preproc_x(x_train)\n",
    "x_test = preproc_x(x_test)\n",
    "\n",
    "# 資料前處理 -Y 轉成 onehot\n",
    "y_train = preproc_y(y_train)\n",
    "y_test = preproc_y(y_test)"
   ]
  },
  {
   "cell_type": "code",
   "execution_count": 7,
   "metadata": {},
   "outputs": [],
   "source": [
    "def build_mlp(input_shape, output_units=10, num_neurons=[512, 256, 128]):\n",
    "    input_layer = keras.layers.Input(input_shape)\n",
    "    \n",
    "    for i, n_units in enumerate(num_neurons):\n",
    "        if i == 0:\n",
    "            x = keras.layers.Dense(units=n_units, activation=\"relu\", name=\"hidden_layer\"+str(i+1))(input_layer)\n",
    "        else:\n",
    "            x = keras.layers.Dense(units=n_units, activation=\"relu\", name=\"hidden_layer\"+str(i+1))(x)\n",
    "    \n",
    "    out = keras.layers.Dense(units=output_units, activation=\"softmax\", name=\"output\")(x)\n",
    "    \n",
    "    model = keras.models.Model(inputs=[input_layer], outputs=[out])\n",
    "    return model"
   ]
  },
  {
   "cell_type": "code",
   "execution_count": 8,
   "metadata": {},
   "outputs": [
    {
     "name": "stdout",
     "output_type": "stream",
     "text": [
      "WARNING:tensorflow:From C:\\ProgramData\\Anaconda3\\lib\\site-packages\\tensorflow\\python\\framework\\op_def_library.py:263: colocate_with (from tensorflow.python.framework.ops) is deprecated and will be removed in a future version.\n",
      "Instructions for updating:\n",
      "Colocations handled automatically by placer.\n",
      "_________________________________________________________________\n",
      "Layer (type)                 Output Shape              Param #   \n",
      "=================================================================\n",
      "input_1 (InputLayer)         (None, 3072)              0         \n",
      "_________________________________________________________________\n",
      "hidden_layer1 (Dense)        (None, 512)               1573376   \n",
      "_________________________________________________________________\n",
      "hidden_layer2 (Dense)        (None, 256)               131328    \n",
      "_________________________________________________________________\n",
      "hidden_layer3 (Dense)        (None, 128)               32896     \n",
      "_________________________________________________________________\n",
      "output (Dense)               (None, 10)                1290      \n",
      "=================================================================\n",
      "Total params: 1,738,890\n",
      "Trainable params: 1,738,890\n",
      "Non-trainable params: 0\n",
      "_________________________________________________________________\n"
     ]
    }
   ],
   "source": [
    "model = build_mlp(input_shape=x_train.shape[1:])\n",
    "model.summary()"
   ]
  },
  {
   "cell_type": "code",
   "execution_count": 9,
   "metadata": {},
   "outputs": [],
   "source": [
    "## 超參數設定\n",
    "LEARNING_RATE = 0.001\n",
    "EPOCHS = 100\n",
    "BATCH_SIZE = 256"
   ]
  },
  {
   "cell_type": "code",
   "execution_count": 10,
   "metadata": {},
   "outputs": [],
   "source": [
    "optimizer = keras.optimizers.Adam(lr=LEARNING_RATE)\n",
    "model.compile(loss=\"categorical_crossentropy\", metrics=[\"accuracy\"], optimizer=optimizer)"
   ]
  },
  {
   "cell_type": "code",
   "execution_count": 11,
   "metadata": {},
   "outputs": [
    {
     "name": "stdout",
     "output_type": "stream",
     "text": [
      "WARNING:tensorflow:From C:\\ProgramData\\Anaconda3\\lib\\site-packages\\tensorflow\\python\\ops\\math_ops.py:3066: to_int32 (from tensorflow.python.ops.math_ops) is deprecated and will be removed in a future version.\n",
      "Instructions for updating:\n",
      "Use tf.cast instead.\n",
      "Train on 50000 samples, validate on 10000 samples\n",
      "Epoch 1/100\n",
      "50000/50000 [==============================] - 9s 188us/step - loss: 1.9450 - acc: 0.2978 - val_loss: 1.8009 - val_acc: 0.3442\n",
      "Epoch 2/100\n",
      "50000/50000 [==============================] - 10s 192us/step - loss: 1.7128 - acc: 0.3846 - val_loss: 1.6553 - val_acc: 0.4100\n",
      "Epoch 3/100\n",
      "50000/50000 [==============================] - 9s 185us/step - loss: 1.6075 - acc: 0.4246 - val_loss: 1.5585 - val_acc: 0.4459\n",
      "Epoch 4/100\n",
      "50000/50000 [==============================] - 9s 177us/step - loss: 1.5502 - acc: 0.4456 - val_loss: 1.5284 - val_acc: 0.4551\n",
      "Epoch 5/100\n",
      "50000/50000 [==============================] - 9s 177us/step - loss: 1.5008 - acc: 0.4633 - val_loss: 1.5364 - val_acc: 0.4562\n",
      "Epoch 6/100\n",
      "50000/50000 [==============================] - 9s 177us/step - loss: 1.4618 - acc: 0.4788 - val_loss: 1.5245 - val_acc: 0.4562\n",
      "Epoch 7/100\n",
      "50000/50000 [==============================] - 9s 178us/step - loss: 1.4286 - acc: 0.4890 - val_loss: 1.4355 - val_acc: 0.4902\n",
      "Epoch 8/100\n",
      "50000/50000 [==============================] - 9s 179us/step - loss: 1.3955 - acc: 0.5030 - val_loss: 1.5030 - val_acc: 0.4692\n",
      "Epoch 9/100\n",
      "50000/50000 [==============================] - 9s 182us/step - loss: 1.3795 - acc: 0.5082 - val_loss: 1.5126 - val_acc: 0.4614\n",
      "Epoch 10/100\n",
      "50000/50000 [==============================] - 9s 178us/step - loss: 1.3473 - acc: 0.5190 - val_loss: 1.4261 - val_acc: 0.4926\n",
      "Epoch 11/100\n",
      "50000/50000 [==============================] - 9s 179us/step - loss: 1.3230 - acc: 0.5272 - val_loss: 1.4603 - val_acc: 0.4816\n",
      "Epoch 12/100\n",
      "50000/50000 [==============================] - 9s 179us/step - loss: 1.3084 - acc: 0.5341 - val_loss: 1.4249 - val_acc: 0.4927\n",
      "Epoch 13/100\n",
      "50000/50000 [==============================] - 9s 178us/step - loss: 1.2827 - acc: 0.5415 - val_loss: 1.4263 - val_acc: 0.4947\n",
      "Epoch 14/100\n",
      "50000/50000 [==============================] - 9s 179us/step - loss: 1.2516 - acc: 0.5546 - val_loss: 1.3855 - val_acc: 0.5110\n",
      "Epoch 15/100\n",
      "50000/50000 [==============================] - 9s 182us/step - loss: 1.2357 - acc: 0.5596 - val_loss: 1.3704 - val_acc: 0.5139\n",
      "Epoch 16/100\n",
      "50000/50000 [==============================] - 9s 186us/step - loss: 1.2202 - acc: 0.5638 - val_loss: 1.3784 - val_acc: 0.5154\n",
      "Epoch 17/100\n",
      "50000/50000 [==============================] - 9s 179us/step - loss: 1.1890 - acc: 0.5756 - val_loss: 1.4107 - val_acc: 0.5078\n",
      "Epoch 18/100\n",
      "50000/50000 [==============================] - 9s 180us/step - loss: 1.1763 - acc: 0.5810 - val_loss: 1.4057 - val_acc: 0.5058\n",
      "Epoch 19/100\n",
      "50000/50000 [==============================] - 9s 184us/step - loss: 1.1582 - acc: 0.5882 - val_loss: 1.4317 - val_acc: 0.5088\n",
      "Epoch 20/100\n",
      "50000/50000 [==============================] - 9s 180us/step - loss: 1.1357 - acc: 0.5952 - val_loss: 1.3544 - val_acc: 0.5262\n",
      "Epoch 21/100\n",
      "50000/50000 [==============================] - 9s 182us/step - loss: 1.1173 - acc: 0.6006 - val_loss: 1.4160 - val_acc: 0.5098\n",
      "Epoch 22/100\n",
      "50000/50000 [==============================] - 9s 180us/step - loss: 1.0960 - acc: 0.6098 - val_loss: 1.4086 - val_acc: 0.5116\n",
      "Epoch 23/100\n",
      "50000/50000 [==============================] - 9s 180us/step - loss: 1.0809 - acc: 0.6154 - val_loss: 1.4107 - val_acc: 0.5150\n",
      "Epoch 24/100\n",
      "50000/50000 [==============================] - 9s 180us/step - loss: 1.0577 - acc: 0.6223 - val_loss: 1.3905 - val_acc: 0.5249\n",
      "Epoch 25/100\n",
      "50000/50000 [==============================] - 9s 181us/step - loss: 1.0392 - acc: 0.6315 - val_loss: 1.3849 - val_acc: 0.5261\n",
      "Epoch 26/100\n",
      "50000/50000 [==============================] - 9s 180us/step - loss: 1.0306 - acc: 0.6312 - val_loss: 1.4264 - val_acc: 0.5137\n",
      "Epoch 27/100\n",
      "50000/50000 [==============================] - 9s 181us/step - loss: 1.0057 - acc: 0.6432 - val_loss: 1.4358 - val_acc: 0.5161\n",
      "Epoch 28/100\n",
      "50000/50000 [==============================] - 9s 181us/step - loss: 0.9890 - acc: 0.6459 - val_loss: 1.4079 - val_acc: 0.5271\n",
      "Epoch 29/100\n",
      "50000/50000 [==============================] - 9s 180us/step - loss: 0.9714 - acc: 0.6539 - val_loss: 1.4333 - val_acc: 0.5176\n",
      "Epoch 30/100\n",
      "50000/50000 [==============================] - 9s 184us/step - loss: 0.9527 - acc: 0.6602 - val_loss: 1.4054 - val_acc: 0.5311\n",
      "Epoch 31/100\n",
      "50000/50000 [==============================] - 9s 181us/step - loss: 0.9347 - acc: 0.6673 - val_loss: 1.4805 - val_acc: 0.5127\n",
      "Epoch 32/100\n",
      "50000/50000 [==============================] - 9s 181us/step - loss: 0.9261 - acc: 0.6691 - val_loss: 1.4304 - val_acc: 0.5226\n",
      "Epoch 33/100\n",
      "50000/50000 [==============================] - 9s 180us/step - loss: 0.8975 - acc: 0.6796 - val_loss: 1.4651 - val_acc: 0.5200\n",
      "Epoch 34/100\n",
      "50000/50000 [==============================] - 9s 182us/step - loss: 0.8906 - acc: 0.6830 - val_loss: 1.4751 - val_acc: 0.5186\n",
      "Epoch 35/100\n",
      "50000/50000 [==============================] - 9s 181us/step - loss: 0.8726 - acc: 0.6890 - val_loss: 1.5049 - val_acc: 0.5235\n",
      "Epoch 36/100\n",
      "50000/50000 [==============================] - 9s 185us/step - loss: 0.8550 - acc: 0.6937 - val_loss: 1.5147 - val_acc: 0.5155\n",
      "Epoch 37/100\n",
      "50000/50000 [==============================] - 9s 182us/step - loss: 0.8368 - acc: 0.7006 - val_loss: 1.5203 - val_acc: 0.5189\n",
      "Epoch 38/100\n",
      "50000/50000 [==============================] - 10s 191us/step - loss: 0.8261 - acc: 0.7064 - val_loss: 1.5341 - val_acc: 0.5113\n",
      "Epoch 39/100\n",
      "50000/50000 [==============================] - 9s 183us/step - loss: 0.8009 - acc: 0.7138 - val_loss: 1.5534 - val_acc: 0.5224\n",
      "Epoch 40/100\n",
      "50000/50000 [==============================] - 9s 178us/step - loss: 0.7882 - acc: 0.7180 - val_loss: 1.5647 - val_acc: 0.5197\n",
      "Epoch 41/100\n",
      "50000/50000 [==============================] - 9s 178us/step - loss: 0.7791 - acc: 0.7215 - val_loss: 1.6212 - val_acc: 0.5205\n",
      "Epoch 42/100\n",
      "50000/50000 [==============================] - 9s 178us/step - loss: 0.7634 - acc: 0.7261 - val_loss: 1.5925 - val_acc: 0.5184\n",
      "Epoch 43/100\n",
      "50000/50000 [==============================] - 9s 178us/step - loss: 0.7502 - acc: 0.7318 - val_loss: 1.6445 - val_acc: 0.5113\n",
      "Epoch 44/100\n",
      "50000/50000 [==============================] - 9s 178us/step - loss: 0.7375 - acc: 0.7371 - val_loss: 1.6221 - val_acc: 0.5192\n",
      "Epoch 45/100\n",
      "50000/50000 [==============================] - 9s 179us/step - loss: 0.7191 - acc: 0.7429 - val_loss: 1.6591 - val_acc: 0.5171\n",
      "Epoch 46/100\n",
      "50000/50000 [==============================] - 9s 183us/step - loss: 0.7041 - acc: 0.7478 - val_loss: 1.6962 - val_acc: 0.5167\n",
      "Epoch 47/100\n",
      "50000/50000 [==============================] - 9s 181us/step - loss: 0.6893 - acc: 0.7530 - val_loss: 1.7249 - val_acc: 0.5110\n",
      "Epoch 48/100\n",
      "50000/50000 [==============================] - 9s 182us/step - loss: 0.6795 - acc: 0.7573 - val_loss: 1.7272 - val_acc: 0.5153\n",
      "Epoch 49/100\n",
      "50000/50000 [==============================] - 9s 182us/step - loss: 0.6660 - acc: 0.7623 - val_loss: 1.7835 - val_acc: 0.5132\n",
      "Epoch 50/100\n",
      "50000/50000 [==============================] - 9s 183us/step - loss: 0.6558 - acc: 0.7641 - val_loss: 1.7957 - val_acc: 0.5093\n",
      "Epoch 51/100\n",
      "50000/50000 [==============================] - 9s 182us/step - loss: 0.6439 - acc: 0.7693 - val_loss: 1.7642 - val_acc: 0.5139\n",
      "Epoch 52/100\n",
      "50000/50000 [==============================] - 10s 195us/step - loss: 0.6321 - acc: 0.7722 - val_loss: 1.8072 - val_acc: 0.5188\n",
      "Epoch 53/100\n",
      "50000/50000 [==============================] - 9s 182us/step - loss: 0.6086 - acc: 0.7827 - val_loss: 1.8835 - val_acc: 0.5177\n",
      "Epoch 54/100\n",
      "50000/50000 [==============================] - 9s 180us/step - loss: 0.6024 - acc: 0.7842 - val_loss: 1.8908 - val_acc: 0.5129\n",
      "Epoch 55/100\n",
      "50000/50000 [==============================] - 9s 180us/step - loss: 0.5921 - acc: 0.7866 - val_loss: 1.9447 - val_acc: 0.5109\n",
      "Epoch 56/100\n",
      "50000/50000 [==============================] - 9s 180us/step - loss: 0.5996 - acc: 0.7862 - val_loss: 1.9330 - val_acc: 0.5048\n",
      "Epoch 57/100\n",
      "50000/50000 [==============================] - 9s 175us/step - loss: 0.5663 - acc: 0.7984 - val_loss: 1.9265 - val_acc: 0.5127\n",
      "Epoch 58/100\n",
      "50000/50000 [==============================] - 9s 175us/step - loss: 0.5601 - acc: 0.7990 - val_loss: 2.0456 - val_acc: 0.4915\n",
      "Epoch 59/100\n",
      "50000/50000 [==============================] - 9s 175us/step - loss: 0.5596 - acc: 0.7996 - val_loss: 2.0080 - val_acc: 0.5164\n",
      "Epoch 60/100\n",
      "50000/50000 [==============================] - 9s 174us/step - loss: 0.5481 - acc: 0.8039 - val_loss: 1.9896 - val_acc: 0.5131\n",
      "Epoch 61/100\n",
      "50000/50000 [==============================] - 9s 176us/step - loss: 0.5189 - acc: 0.8158 - val_loss: 2.0303 - val_acc: 0.5059\n",
      "Epoch 62/100\n",
      "50000/50000 [==============================] - 9s 174us/step - loss: 0.5224 - acc: 0.8113 - val_loss: 2.0775 - val_acc: 0.5109\n",
      "Epoch 63/100\n",
      "50000/50000 [==============================] - 9s 175us/step - loss: 0.5199 - acc: 0.8133 - val_loss: 2.1012 - val_acc: 0.5105\n",
      "Epoch 64/100\n",
      "50000/50000 [==============================] - 9s 173us/step - loss: 0.4939 - acc: 0.8241 - val_loss: 2.1500 - val_acc: 0.5050\n",
      "Epoch 65/100\n",
      "50000/50000 [==============================] - 9s 174us/step - loss: 0.4900 - acc: 0.8260 - val_loss: 2.1985 - val_acc: 0.5053\n",
      "Epoch 66/100\n",
      "50000/50000 [==============================] - 9s 174us/step - loss: 0.4761 - acc: 0.8309 - val_loss: 2.2376 - val_acc: 0.5108\n",
      "Epoch 67/100\n",
      "50000/50000 [==============================] - 9s 174us/step - loss: 0.4834 - acc: 0.8268 - val_loss: 2.1919 - val_acc: 0.5100\n",
      "Epoch 68/100\n",
      "50000/50000 [==============================] - 9s 174us/step - loss: 0.4900 - acc: 0.8239 - val_loss: 2.2062 - val_acc: 0.5028\n",
      "Epoch 69/100\n",
      "50000/50000 [==============================] - 9s 175us/step - loss: 0.4504 - acc: 0.8395 - val_loss: 2.2918 - val_acc: 0.4961\n",
      "Epoch 70/100\n",
      "50000/50000 [==============================] - 9s 174us/step - loss: 0.4588 - acc: 0.8351 - val_loss: 2.2876 - val_acc: 0.5052\n",
      "Epoch 71/100\n",
      "50000/50000 [==============================] - 9s 174us/step - loss: 0.4501 - acc: 0.8394 - val_loss: 2.2964 - val_acc: 0.5053\n",
      "Epoch 72/100\n",
      "50000/50000 [==============================] - 9s 174us/step - loss: 0.4574 - acc: 0.8353 - val_loss: 2.3705 - val_acc: 0.4983\n",
      "Epoch 73/100\n",
      "50000/50000 [==============================] - 9s 174us/step - loss: 0.4353 - acc: 0.8447 - val_loss: 2.3364 - val_acc: 0.5114\n",
      "Epoch 74/100\n",
      "50000/50000 [==============================] - 9s 175us/step - loss: 0.4122 - acc: 0.8513 - val_loss: 2.4323 - val_acc: 0.5006\n",
      "Epoch 75/100\n",
      "50000/50000 [==============================] - 9s 174us/step - loss: 0.4124 - acc: 0.8513 - val_loss: 2.4609 - val_acc: 0.4977\n",
      "Epoch 76/100\n",
      "50000/50000 [==============================] - 9s 178us/step - loss: 0.4050 - acc: 0.8533 - val_loss: 2.4518 - val_acc: 0.4973\n",
      "Epoch 77/100\n",
      "50000/50000 [==============================] - 9s 174us/step - loss: 0.4142 - acc: 0.8521 - val_loss: 2.4520 - val_acc: 0.5061\n",
      "Epoch 78/100\n",
      "50000/50000 [==============================] - 9s 174us/step - loss: 0.3983 - acc: 0.8572 - val_loss: 2.5917 - val_acc: 0.4966\n",
      "Epoch 79/100\n",
      "50000/50000 [==============================] - 9s 175us/step - loss: 0.3900 - acc: 0.8606 - val_loss: 2.5625 - val_acc: 0.5046\n",
      "Epoch 80/100\n",
      "50000/50000 [==============================] - 9s 178us/step - loss: 0.4021 - acc: 0.8554 - val_loss: 2.5655 - val_acc: 0.5086\n",
      "Epoch 81/100\n",
      "50000/50000 [==============================] - 9s 175us/step - loss: 0.3926 - acc: 0.8589 - val_loss: 2.5715 - val_acc: 0.5049\n",
      "Epoch 82/100\n",
      "50000/50000 [==============================] - 9s 175us/step - loss: 0.3732 - acc: 0.8663 - val_loss: 2.6611 - val_acc: 0.4935\n",
      "Epoch 83/100\n",
      "50000/50000 [==============================] - 9s 176us/step - loss: 0.3879 - acc: 0.8602 - val_loss: 2.6659 - val_acc: 0.5010\n",
      "Epoch 84/100\n",
      "50000/50000 [==============================] - 9s 176us/step - loss: 0.3698 - acc: 0.8682 - val_loss: 2.6378 - val_acc: 0.4999\n",
      "Epoch 85/100\n",
      "50000/50000 [==============================] - 9s 175us/step - loss: 0.3433 - acc: 0.8771 - val_loss: 2.6825 - val_acc: 0.5098\n",
      "Epoch 86/100\n",
      "50000/50000 [==============================] - 9s 178us/step - loss: 0.3476 - acc: 0.8742 - val_loss: 2.6974 - val_acc: 0.4958\n",
      "Epoch 87/100\n",
      "50000/50000 [==============================] - 9s 176us/step - loss: 0.3712 - acc: 0.8669 - val_loss: 2.7318 - val_acc: 0.5026\n",
      "Epoch 88/100\n",
      "50000/50000 [==============================] - 9s 177us/step - loss: 0.3501 - acc: 0.8732 - val_loss: 2.7611 - val_acc: 0.4998\n",
      "Epoch 89/100\n",
      "50000/50000 [==============================] - 9s 176us/step - loss: 0.3391 - acc: 0.8786 - val_loss: 2.7833 - val_acc: 0.5017\n",
      "Epoch 90/100\n",
      "50000/50000 [==============================] - 9s 176us/step - loss: 0.3396 - acc: 0.8790 - val_loss: 2.8299 - val_acc: 0.5045\n",
      "Epoch 91/100\n",
      "50000/50000 [==============================] - 9s 175us/step - loss: 0.3637 - acc: 0.8696 - val_loss: 2.8700 - val_acc: 0.4906\n",
      "Epoch 92/100\n",
      "50000/50000 [==============================] - 9s 176us/step - loss: 0.3319 - acc: 0.8807 - val_loss: 2.8920 - val_acc: 0.4991\n",
      "Epoch 93/100\n",
      "50000/50000 [==============================] - 9s 176us/step - loss: 0.3276 - acc: 0.8815 - val_loss: 2.9004 - val_acc: 0.5075\n",
      "Epoch 94/100\n",
      "50000/50000 [==============================] - 9s 176us/step - loss: 0.3262 - acc: 0.8830 - val_loss: 2.9301 - val_acc: 0.4987\n",
      "Epoch 95/100\n",
      "50000/50000 [==============================] - 9s 175us/step - loss: 0.3150 - acc: 0.8885 - val_loss: 2.9271 - val_acc: 0.4951\n",
      "Epoch 96/100\n",
      "50000/50000 [==============================] - 9s 176us/step - loss: 0.3050 - acc: 0.8905 - val_loss: 2.9659 - val_acc: 0.5035\n",
      "Epoch 97/100\n",
      "50000/50000 [==============================] - 9s 176us/step - loss: 0.3124 - acc: 0.8881 - val_loss: 2.9537 - val_acc: 0.5045\n",
      "Epoch 98/100\n",
      "50000/50000 [==============================] - 9s 176us/step - loss: 0.2907 - acc: 0.8947 - val_loss: 2.9812 - val_acc: 0.4980\n",
      "Epoch 99/100\n",
      "50000/50000 [==============================] - 9s 176us/step - loss: 0.3093 - acc: 0.8883 - val_loss: 3.0095 - val_acc: 0.4982\n",
      "Epoch 100/100\n",
      "50000/50000 [==============================] - 9s 176us/step - loss: 0.3291 - acc: 0.8824 - val_loss: 3.1402 - val_acc: 0.4944\n"
     ]
    },
    {
     "data": {
      "text/plain": [
       "<keras.callbacks.History at 0x283c5eb4240>"
      ]
     },
     "execution_count": 11,
     "metadata": {},
     "output_type": "execute_result"
    }
   ],
   "source": [
    "model.fit(x_train, y_train, \n",
    "          epochs=EPOCHS, \n",
    "          batch_size=BATCH_SIZE, \n",
    "          validation_data=(x_test, y_test), \n",
    "          shuffle=True)"
   ]
  },
  {
   "cell_type": "code",
   "execution_count": 12,
   "metadata": {
    "scrolled": true
   },
   "outputs": [
    {
     "data": {
      "image/png": "[encoded data removed]",
      "text/plain": [
       "<Figure size 432x288 with 1 Axes>"
      ]
     },
     "metadata": {
      "needs_background": "light"
     },
     "output_type": "display_data"
    },
    {
     "data": {
      "image/png": "[encoded data removed]",
      "text/plain": [
       "<Figure size 432x288 with 1 Axes>"
      ]
     },
     "metadata": {
      "needs_background": "light"
     },
     "output_type": "display_data"
    }
   ],
   "source": [
    "# 訓練模型並檢視驗證集的結果\n",
    "import matplotlib.pyplot as plt\n",
    "%matplotlib inline\n",
    "\n",
    "train_loss = model.history.history[\"loss\"]\n",
    "valid_loss = model.history.history[\"val_loss\"]\n",
    "\n",
    "train_acc = model.history.history[\"acc\"]\n",
    "valid_acc = model.history.history[\"val_acc\"]\n",
    "\n",
    "plt.plot(range(len(train_loss)), train_loss, label=\"train loss\")\n",
    "plt.plot(range(len(valid_loss)), valid_loss, label=\"valid loss\")\n",
    "plt.legend()\n",
    "plt.title(\"Loss\")\n",
    "plt.show()\n",
    "\n",
    "plt.plot(range(len(train_acc)), train_acc, label=\"train accuracy\")\n",
    "plt.plot(range(len(valid_acc)), valid_acc, label=\"valid accuracy\")\n",
    "plt.legend()\n",
    "plt.title(\"Accuracy\")\n",
    "plt.show()"
   ]
  },
  {
   "cell_type": "code",
   "execution_count": null,
   "metadata": {},
   "outputs": [],
   "source": []
  }
 ],
 "metadata": {
  "kernelspec": {
   "display_name": "Python-keras35",
   "language": "python",
   "name": "keras35"
  },
  "language_info": {
   "codemirror_mode": {
    "name": "ipython",
    "version": 3
   },
   "file_extension": ".py",
   "mimetype": "text/x-python",
   "name": "python",
   "nbconvert_exporter": "python",
   "pygments_lexer": "ipython3",
   "version": "3.5.6"
  }
 },
 "nbformat": 4,
 "nbformat_minor": 2
}
