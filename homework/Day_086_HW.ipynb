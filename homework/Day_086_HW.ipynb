{
 "cells": [
  {
   "cell_type": "markdown",
   "metadata": {},
   "source": [
    "## Work\n",
    "1. 試比較 save_best_only 與否的差異\n",
    "2. 請僅存入將 save_weights_only 設定為 True, 並嘗試 reset ipynb 並將模型與權重重新建回並預測 x_test"
   ]
  },
  {
   "cell_type": "code",
   "execution_count": 1,
   "metadata": {},
   "outputs": [
    {
     "name": "stderr",
     "output_type": "stream",
     "text": [
      "Using TensorFlow backend.\n"
     ]
    }
   ],
   "source": [
    "import os\n",
    "import keras\n",
    "\n",
    "# Disable GPU\n",
    "os.environ[\"CUDA_VISIBLE_DEVICES\"] = \"0\""
   ]
  },
  {
   "cell_type": "code",
   "execution_count": 2,
   "metadata": {},
   "outputs": [],
   "source": [
    "train, test = keras.datasets.cifar10.load_data()"
   ]
  },
  {
   "cell_type": "code",
   "execution_count": 3,
   "metadata": {},
   "outputs": [],
   "source": [
    "## 資料前處理\n",
    "def preproc_x(x, flatten=True):\n",
    "    x = x / 255.\n",
    "    if flatten:\n",
    "        x = x.reshape((len(x), -1))\n",
    "    return x\n",
    "\n",
    "def preproc_y(y, num_classes=10):\n",
    "    if y.shape[-1] == 1:\n",
    "        y = keras.utils.to_categorical(y, num_classes)\n",
    "    return y    "
   ]
  },
  {
   "cell_type": "code",
   "execution_count": 4,
   "metadata": {},
   "outputs": [],
   "source": [
    "x_train, y_train = train\n",
    "x_test, y_test = test\n",
    "\n",
    "# Preproc the inputs\n",
    "x_train = preproc_x(x_train)\n",
    "x_test = preproc_x(x_test)\n",
    "\n",
    "# Preprc the outputs\n",
    "y_train = preproc_y(y_train)\n",
    "y_test = preproc_y(y_test)"
   ]
  },
  {
   "cell_type": "code",
   "execution_count": 5,
   "metadata": {},
   "outputs": [],
   "source": [
    "from keras.layers import BatchNormalization\n",
    "def build_mlp(input_shape, output_units=10, num_neurons=[512, 256, 128]):\n",
    "    \"\"\"Code Here\n",
    "    建立你的神經網路\n",
    "    \"\"\"\n",
    "    input_layer = keras.layers.Input(input_shape)\n",
    "    \n",
    "    for i, n_units in enumerate(num_neurons):\n",
    "        if i == 0:\n",
    "            x = keras.layers.Dense(units=n_units, \n",
    "                                   activation=\"relu\", \n",
    "                                   name=\"hidden_layer\"+str(i+1))(input_layer)\n",
    "            x = BatchNormalization()(x)\n",
    "        else:\n",
    "            x = keras.layers.Dense(units=n_units, \n",
    "                                   activation=\"relu\", \n",
    "                                   name=\"hidden_layer\"+str(i+1))(x)\n",
    "            x = BatchNormalization()(x)\n",
    "    \n",
    "    out = keras.layers.Dense(units=output_units, activation=\"softmax\", name=\"output\")(x)\n",
    "    \n",
    "    model = keras.models.Model(inputs=[input_layer], outputs=[out])\n",
    "    return model"
   ]
  },
  {
   "cell_type": "markdown",
   "metadata": {},
   "source": [
    "# 試比較 save_best_only 與否的差異"
   ]
  },
  {
   "cell_type": "code",
   "execution_count": 6,
   "metadata": {},
   "outputs": [],
   "source": [
    "\"\"\"Code Here\n",
    "設定超參數\n",
    "\"\"\"\n",
    "## 超參數設定\n",
    "LEARNING_RATE = 1e-3\n",
    "EPOCHS = 50\n",
    "BATCH_SIZE = 1024\n",
    "MOMENTUM = 0.95\n",
    "SAVE_BEST = [True, False]"
   ]
  },
  {
   "cell_type": "code",
   "execution_count": 7,
   "metadata": {},
   "outputs": [
    {
     "name": "stdout",
     "output_type": "stream",
     "text": [
      "Experiment with savebest = True\n",
      "_________________________________________________________________\n",
      "Layer (type)                 Output Shape              Param #   \n",
      "=================================================================\n",
      "input_1 (InputLayer)         (None, 3072)              0         \n",
      "_________________________________________________________________\n",
      "hidden_layer1 (Dense)        (None, 512)               1573376   \n",
      "_________________________________________________________________\n",
      "batch_normalization_1 (Batch (None, 512)               2048      \n",
      "_________________________________________________________________\n",
      "hidden_layer2 (Dense)        (None, 256)               131328    \n",
      "_________________________________________________________________\n",
      "batch_normalization_2 (Batch (None, 256)               1024      \n",
      "_________________________________________________________________\n",
      "hidden_layer3 (Dense)        (None, 128)               32896     \n",
      "_________________________________________________________________\n",
      "batch_normalization_3 (Batch (None, 128)               512       \n",
      "_________________________________________________________________\n",
      "output (Dense)               (None, 10)                1290      \n",
      "=================================================================\n",
      "Total params: 1,742,474\n",
      "Trainable params: 1,740,682\n",
      "Non-trainable params: 1,792\n",
      "_________________________________________________________________\n",
      "Train on 50000 samples, validate on 10000 samples\n",
      "Epoch 1/50\n",
      "50000/50000 [==============================] - 6s 123us/step - loss: 2.1987 - acc: 0.2777 - val_loss: 2.1436 - val_acc: 0.3185\n",
      "Epoch 2/50\n",
      "50000/50000 [==============================] - 3s 64us/step - loss: 1.7321 - acc: 0.3986 - val_loss: 1.8267 - val_acc: 0.3757\n",
      "Epoch 3/50\n",
      "50000/50000 [==============================] - 3s 65us/step - loss: 1.6090 - acc: 0.4363 - val_loss: 1.6945 - val_acc: 0.4138\n",
      "Epoch 4/50\n",
      "50000/50000 [==============================] - 3s 64us/step - loss: 1.5358 - acc: 0.4617 - val_loss: 1.6530 - val_acc: 0.4272\n",
      "Epoch 5/50\n",
      "50000/50000 [==============================] - 3s 64us/step - loss: 1.4820 - acc: 0.4803 - val_loss: 1.6080 - val_acc: 0.4391\n",
      "Epoch 6/50\n",
      "50000/50000 [==============================] - 3s 62us/step - loss: 1.4380 - acc: 0.4965 - val_loss: 1.5603 - val_acc: 0.4524\n",
      "Epoch 7/50\n",
      "50000/50000 [==============================] - 3s 63us/step - loss: 1.3994 - acc: 0.5099 - val_loss: 1.5382 - val_acc: 0.4633\n",
      "Epoch 8/50\n",
      "50000/50000 [==============================] - 3s 63us/step - loss: 1.3646 - acc: 0.5234 - val_loss: 1.5284 - val_acc: 0.4638\n",
      "Epoch 9/50\n",
      "50000/50000 [==============================] - 3s 65us/step - loss: 1.3332 - acc: 0.5343 - val_loss: 1.5241 - val_acc: 0.4627\n",
      "Epoch 10/50\n",
      "50000/50000 [==============================] - 3s 63us/step - loss: 1.3024 - acc: 0.5453 - val_loss: 1.5037 - val_acc: 0.4695\n",
      "Epoch 11/50\n",
      "50000/50000 [==============================] - 3s 65us/step - loss: 1.2756 - acc: 0.5557 - val_loss: 1.4841 - val_acc: 0.4776\n",
      "Epoch 12/50\n",
      "50000/50000 [==============================] - 3s 64us/step - loss: 1.2499 - acc: 0.5664 - val_loss: 1.4771 - val_acc: 0.4806\n",
      "Epoch 13/50\n",
      "50000/50000 [==============================] - 3s 64us/step - loss: 1.2233 - acc: 0.5747 - val_loss: 1.4755 - val_acc: 0.4844\n",
      "Epoch 14/50\n",
      "50000/50000 [==============================] - 3s 63us/step - loss: 1.2007 - acc: 0.5839 - val_loss: 1.4668 - val_acc: 0.4850\n",
      "Epoch 15/50\n",
      "50000/50000 [==============================] - 3s 63us/step - loss: 1.1742 - acc: 0.5942 - val_loss: 1.4656 - val_acc: 0.4857\n",
      "Epoch 16/50\n",
      "50000/50000 [==============================] - 3s 64us/step - loss: 1.1517 - acc: 0.6033 - val_loss: 1.4735 - val_acc: 0.4851\n",
      "Epoch 17/50\n",
      "50000/50000 [==============================] - 3s 64us/step - loss: 1.1301 - acc: 0.6122 - val_loss: 1.4614 - val_acc: 0.4880\n",
      "Epoch 18/50\n",
      "50000/50000 [==============================] - 3s 64us/step - loss: 1.1073 - acc: 0.6199 - val_loss: 1.4569 - val_acc: 0.4909\n",
      "Epoch 19/50\n",
      "50000/50000 [==============================] - 3s 64us/step - loss: 1.0857 - acc: 0.6289 - val_loss: 1.4604 - val_acc: 0.4955\n",
      "Epoch 20/50\n",
      "50000/50000 [==============================] - 3s 64us/step - loss: 1.0637 - acc: 0.6353 - val_loss: 1.4500 - val_acc: 0.4993\n",
      "Epoch 21/50\n",
      "50000/50000 [==============================] - 3s 64us/step - loss: 1.0424 - acc: 0.6469 - val_loss: 1.4565 - val_acc: 0.4971\n",
      "Epoch 22/50\n",
      "50000/50000 [==============================] - 3s 64us/step - loss: 1.0210 - acc: 0.6533 - val_loss: 1.4574 - val_acc: 0.4940\n",
      "Epoch 23/50\n",
      "50000/50000 [==============================] - 3s 64us/step - loss: 1.0006 - acc: 0.6612 - val_loss: 1.4606 - val_acc: 0.4948\n",
      "Epoch 24/50\n",
      "50000/50000 [==============================] - 3s 63us/step - loss: 0.9798 - acc: 0.6714 - val_loss: 1.4633 - val_acc: 0.4929\n",
      "Epoch 25/50\n",
      "50000/50000 [==============================] - 3s 64us/step - loss: 0.9580 - acc: 0.6778 - val_loss: 1.4625 - val_acc: 0.5018\n",
      "Epoch 26/50\n",
      "50000/50000 [==============================] - 3s 64us/step - loss: 0.9376 - acc: 0.6854 - val_loss: 1.4547 - val_acc: 0.4971\n",
      "Epoch 27/50\n",
      "50000/50000 [==============================] - 3s 63us/step - loss: 0.9195 - acc: 0.6926 - val_loss: 1.4733 - val_acc: 0.4925\n",
      "Epoch 28/50\n",
      "50000/50000 [==============================] - 3s 63us/step - loss: 0.8989 - acc: 0.7023 - val_loss: 1.4717 - val_acc: 0.4974\n",
      "Epoch 29/50\n",
      "50000/50000 [==============================] - 3s 64us/step - loss: 0.8784 - acc: 0.7091 - val_loss: 1.4926 - val_acc: 0.4904\n",
      "Epoch 30/50\n",
      "50000/50000 [==============================] - 3s 64us/step - loss: 0.8625 - acc: 0.7162 - val_loss: 1.4866 - val_acc: 0.4954\n",
      "Epoch 31/50\n",
      "50000/50000 [==============================] - 3s 65us/step - loss: 0.8402 - acc: 0.7250 - val_loss: 1.4839 - val_acc: 0.4982\n",
      "Epoch 32/50\n",
      "50000/50000 [==============================] - 3s 64us/step - loss: 0.8219 - acc: 0.7333 - val_loss: 1.4946 - val_acc: 0.4956\n",
      "Epoch 33/50\n",
      "50000/50000 [==============================] - 3s 64us/step - loss: 0.8004 - acc: 0.7415 - val_loss: 1.5060 - val_acc: 0.4930\n",
      "Epoch 34/50\n",
      "50000/50000 [==============================] - 3s 66us/step - loss: 0.7819 - acc: 0.7483 - val_loss: 1.5116 - val_acc: 0.4912\n",
      "Epoch 35/50\n",
      "50000/50000 [==============================] - 3s 64us/step - loss: 0.7644 - acc: 0.7562 - val_loss: 1.5112 - val_acc: 0.4994\n",
      "Epoch 36/50\n",
      "50000/50000 [==============================] - 3s 63us/step - loss: 0.7446 - acc: 0.7637 - val_loss: 1.5483 - val_acc: 0.4867\n",
      "Epoch 37/50\n",
      "50000/50000 [==============================] - 3s 64us/step - loss: 0.7262 - acc: 0.7710 - val_loss: 1.5225 - val_acc: 0.4990\n",
      "Epoch 38/50\n",
      "50000/50000 [==============================] - 3s 64us/step - loss: 0.7084 - acc: 0.7787 - val_loss: 1.5431 - val_acc: 0.4901\n",
      "Epoch 39/50\n",
      "50000/50000 [==============================] - 3s 63us/step - loss: 0.6895 - acc: 0.7839 - val_loss: 1.5476 - val_acc: 0.4979\n",
      "Epoch 40/50\n",
      "50000/50000 [==============================] - 3s 63us/step - loss: 0.6711 - acc: 0.7931 - val_loss: 1.5747 - val_acc: 0.4917\n",
      "Epoch 41/50\n",
      "50000/50000 [==============================] - 3s 63us/step - loss: 0.6527 - acc: 0.7990 - val_loss: 1.5883 - val_acc: 0.4934\n",
      "Epoch 42/50\n",
      "50000/50000 [==============================] - 3s 63us/step - loss: 0.6345 - acc: 0.8075 - val_loss: 1.5746 - val_acc: 0.4937\n",
      "Epoch 43/50\n",
      "50000/50000 [==============================] - 3s 63us/step - loss: 0.6187 - acc: 0.8141 - val_loss: 1.5922 - val_acc: 0.4925\n",
      "Epoch 44/50\n",
      "50000/50000 [==============================] - 3s 63us/step - loss: 0.6001 - acc: 0.8203 - val_loss: 1.5928 - val_acc: 0.4916\n",
      "Epoch 45/50\n",
      "50000/50000 [==============================] - 3s 64us/step - loss: 0.5831 - acc: 0.8281 - val_loss: 1.6076 - val_acc: 0.4916\n",
      "Epoch 46/50\n",
      "50000/50000 [==============================] - 3s 64us/step - loss: 0.5674 - acc: 0.8345 - val_loss: 1.6279 - val_acc: 0.4888\n",
      "Epoch 47/50\n",
      "50000/50000 [==============================] - 3s 63us/step - loss: 0.5480 - acc: 0.8426 - val_loss: 1.6346 - val_acc: 0.4872\n",
      "Epoch 48/50\n",
      "50000/50000 [==============================] - 3s 64us/step - loss: 0.5328 - acc: 0.8468 - val_loss: 1.6452 - val_acc: 0.4940\n",
      "Epoch 49/50\n"
     ]
    },
    {
     "name": "stdout",
     "output_type": "stream",
     "text": [
      "50000/50000 [==============================] - 3s 63us/step - loss: 0.5164 - acc: 0.8545 - val_loss: 1.6496 - val_acc: 0.4929\n",
      "Epoch 50/50\n",
      "50000/50000 [==============================] - 3s 64us/step - loss: 0.4988 - acc: 0.8610 - val_loss: 1.6858 - val_acc: 0.4854\n",
      "Experiment with savebest = False\n",
      "_________________________________________________________________\n",
      "Layer (type)                 Output Shape              Param #   \n",
      "=================================================================\n",
      "input_1 (InputLayer)         (None, 3072)              0         \n",
      "_________________________________________________________________\n",
      "hidden_layer1 (Dense)        (None, 512)               1573376   \n",
      "_________________________________________________________________\n",
      "batch_normalization_1 (Batch (None, 512)               2048      \n",
      "_________________________________________________________________\n",
      "hidden_layer2 (Dense)        (None, 256)               131328    \n",
      "_________________________________________________________________\n",
      "batch_normalization_2 (Batch (None, 256)               1024      \n",
      "_________________________________________________________________\n",
      "hidden_layer3 (Dense)        (None, 128)               32896     \n",
      "_________________________________________________________________\n",
      "batch_normalization_3 (Batch (None, 128)               512       \n",
      "_________________________________________________________________\n",
      "output (Dense)               (None, 10)                1290      \n",
      "=================================================================\n",
      "Total params: 1,742,474\n",
      "Trainable params: 1,740,682\n",
      "Non-trainable params: 1,792\n",
      "_________________________________________________________________\n",
      "Train on 50000 samples, validate on 10000 samples\n",
      "Epoch 1/50\n",
      "50000/50000 [==============================] - 4s 81us/step - loss: 2.2108 - acc: 0.2775 - val_loss: 2.0855 - val_acc: 0.3174\n",
      "Epoch 2/50\n",
      "50000/50000 [==============================] - 3s 65us/step - loss: 1.7540 - acc: 0.3911 - val_loss: 1.8749 - val_acc: 0.3774\n",
      "Epoch 3/50\n",
      "50000/50000 [==============================] - 3s 64us/step - loss: 1.6203 - acc: 0.4352 - val_loss: 1.6944 - val_acc: 0.4173\n",
      "Epoch 4/50\n",
      "50000/50000 [==============================] - 3s 64us/step - loss: 1.5445 - acc: 0.4618 - val_loss: 1.6397 - val_acc: 0.4259\n",
      "Epoch 5/50\n",
      "50000/50000 [==============================] - 3s 64us/step - loss: 1.4885 - acc: 0.4823 - val_loss: 1.5992 - val_acc: 0.4358\n",
      "Epoch 6/50\n",
      "50000/50000 [==============================] - 3s 64us/step - loss: 1.4432 - acc: 0.4977 - val_loss: 1.5718 - val_acc: 0.4450\n",
      "Epoch 7/50\n",
      "50000/50000 [==============================] - 3s 64us/step - loss: 1.4034 - acc: 0.5120 - val_loss: 1.5518 - val_acc: 0.4567\n",
      "Epoch 8/50\n",
      "50000/50000 [==============================] - 3s 64us/step - loss: 1.3693 - acc: 0.5249 - val_loss: 1.5365 - val_acc: 0.4609\n",
      "Epoch 9/50\n",
      "50000/50000 [==============================] - 3s 64us/step - loss: 1.3347 - acc: 0.5365 - val_loss: 1.5392 - val_acc: 0.4576\n",
      "Epoch 10/50\n",
      "50000/50000 [==============================] - 3s 64us/step - loss: 1.3070 - acc: 0.5466 - val_loss: 1.5087 - val_acc: 0.4689\n",
      "Epoch 11/50\n",
      "50000/50000 [==============================] - 3s 64us/step - loss: 1.2774 - acc: 0.5590 - val_loss: 1.5078 - val_acc: 0.4703\n",
      "Epoch 12/50\n",
      "50000/50000 [==============================] - 3s 64us/step - loss: 1.2519 - acc: 0.5661 - val_loss: 1.4946 - val_acc: 0.4747\n",
      "Epoch 13/50\n",
      "50000/50000 [==============================] - 3s 64us/step - loss: 1.2254 - acc: 0.5777 - val_loss: 1.4945 - val_acc: 0.4803\n",
      "Epoch 14/50\n",
      "50000/50000 [==============================] - 3s 64us/step - loss: 1.1997 - acc: 0.5860 - val_loss: 1.4835 - val_acc: 0.4763\n",
      "Epoch 15/50\n",
      "50000/50000 [==============================] - 3s 64us/step - loss: 1.1761 - acc: 0.5968 - val_loss: 1.4671 - val_acc: 0.4853\n",
      "Epoch 16/50\n",
      "50000/50000 [==============================] - 3s 64us/step - loss: 1.1518 - acc: 0.6050 - val_loss: 1.4640 - val_acc: 0.4864\n",
      "Epoch 17/50\n",
      "50000/50000 [==============================] - 3s 64us/step - loss: 1.1294 - acc: 0.6132 - val_loss: 1.4664 - val_acc: 0.4798\n",
      "Epoch 18/50\n",
      "50000/50000 [==============================] - 3s 64us/step - loss: 1.1078 - acc: 0.6228 - val_loss: 1.4694 - val_acc: 0.4813\n",
      "Epoch 19/50\n",
      "50000/50000 [==============================] - 3s 63us/step - loss: 1.0855 - acc: 0.6308 - val_loss: 1.4596 - val_acc: 0.4889\n",
      "Epoch 20/50\n",
      "50000/50000 [==============================] - 3s 64us/step - loss: 1.0619 - acc: 0.6377 - val_loss: 1.4785 - val_acc: 0.4935\n",
      "Epoch 21/50\n",
      "50000/50000 [==============================] - 3s 63us/step - loss: 1.0419 - acc: 0.6467 - val_loss: 1.4662 - val_acc: 0.4922\n",
      "Epoch 22/50\n",
      "50000/50000 [==============================] - 3s 62us/step - loss: 1.0225 - acc: 0.6535 - val_loss: 1.4697 - val_acc: 0.4877\n",
      "Epoch 23/50\n",
      "50000/50000 [==============================] - 3s 64us/step - loss: 1.0017 - acc: 0.6616 - val_loss: 1.4573 - val_acc: 0.4951\n",
      "Epoch 24/50\n",
      "50000/50000 [==============================] - 3s 63us/step - loss: 0.9786 - acc: 0.6706 - val_loss: 1.4696 - val_acc: 0.4919\n",
      "Epoch 25/50\n",
      "50000/50000 [==============================] - 3s 62us/step - loss: 0.9607 - acc: 0.6778 - val_loss: 1.4677 - val_acc: 0.4946\n",
      "Epoch 26/50\n",
      "50000/50000 [==============================] - 3s 62us/step - loss: 0.9392 - acc: 0.6856 - val_loss: 1.4714 - val_acc: 0.4975\n",
      "Epoch 27/50\n",
      "50000/50000 [==============================] - 3s 63us/step - loss: 0.9186 - acc: 0.6941 - val_loss: 1.5027 - val_acc: 0.4882\n",
      "Epoch 28/50\n",
      "50000/50000 [==============================] - 3s 64us/step - loss: 0.8976 - acc: 0.7033 - val_loss: 1.4865 - val_acc: 0.4940\n",
      "Epoch 29/50\n",
      "50000/50000 [==============================] - 3s 63us/step - loss: 0.8788 - acc: 0.7105 - val_loss: 1.4821 - val_acc: 0.4923\n",
      "Epoch 30/50\n",
      "50000/50000 [==============================] - 3s 63us/step - loss: 0.8588 - acc: 0.7184 - val_loss: 1.4897 - val_acc: 0.4851\n",
      "Epoch 31/50\n",
      "50000/50000 [==============================] - 3s 64us/step - loss: 0.8396 - acc: 0.7258 - val_loss: 1.5004 - val_acc: 0.4976\n",
      "Epoch 32/50\n",
      "50000/50000 [==============================] - 3s 64us/step - loss: 0.8202 - acc: 0.7339 - val_loss: 1.5078 - val_acc: 0.4875\n",
      "Epoch 33/50\n",
      "50000/50000 [==============================] - 3s 64us/step - loss: 0.8000 - acc: 0.7420 - val_loss: 1.5035 - val_acc: 0.4935\n",
      "Epoch 34/50\n",
      "50000/50000 [==============================] - 3s 64us/step - loss: 0.7833 - acc: 0.7470 - val_loss: 1.5177 - val_acc: 0.4886\n",
      "Epoch 35/50\n",
      "50000/50000 [==============================] - 3s 64us/step - loss: 0.7640 - acc: 0.7550 - val_loss: 1.5305 - val_acc: 0.4898\n",
      "Epoch 36/50\n",
      "50000/50000 [==============================] - 3s 64us/step - loss: 0.7453 - acc: 0.7623 - val_loss: 1.5432 - val_acc: 0.4911\n",
      "Epoch 37/50\n",
      "50000/50000 [==============================] - 3s 63us/step - loss: 0.7241 - acc: 0.7698 - val_loss: 1.5493 - val_acc: 0.4899\n",
      "Epoch 38/50\n",
      "50000/50000 [==============================] - 3s 64us/step - loss: 0.7070 - acc: 0.7778 - val_loss: 1.5739 - val_acc: 0.4842\n",
      "Epoch 39/50\n",
      "50000/50000 [==============================] - 3s 64us/step - loss: 0.6880 - acc: 0.7864 - val_loss: 1.5705 - val_acc: 0.4918\n",
      "Epoch 40/50\n",
      "50000/50000 [==============================] - 3s 64us/step - loss: 0.6678 - acc: 0.7933 - val_loss: 1.5683 - val_acc: 0.4883\n",
      "Epoch 41/50\n",
      "50000/50000 [==============================] - 3s 64us/step - loss: 0.6529 - acc: 0.7994 - val_loss: 1.5912 - val_acc: 0.4869\n",
      "Epoch 42/50\n",
      "50000/50000 [==============================] - 3s 64us/step - loss: 0.6357 - acc: 0.8063 - val_loss: 1.5948 - val_acc: 0.4840\n",
      "Epoch 43/50\n",
      "50000/50000 [==============================] - 3s 65us/step - loss: 0.6164 - acc: 0.8136 - val_loss: 1.6032 - val_acc: 0.4872\n",
      "Epoch 44/50\n",
      "50000/50000 [==============================] - 3s 64us/step - loss: 0.5992 - acc: 0.8201 - val_loss: 1.6147 - val_acc: 0.4848\n",
      "Epoch 45/50\n",
      "50000/50000 [==============================] - 3s 64us/step - loss: 0.5808 - acc: 0.8289 - val_loss: 1.6294 - val_acc: 0.4865\n",
      "Epoch 46/50\n",
      "50000/50000 [==============================] - 3s 63us/step - loss: 0.5645 - acc: 0.8334 - val_loss: 1.6361 - val_acc: 0.4927\n",
      "Epoch 47/50\n"
     ]
    },
    {
     "name": "stdout",
     "output_type": "stream",
     "text": [
      "50000/50000 [==============================] - 3s 64us/step - loss: 0.5481 - acc: 0.8415 - val_loss: 1.6554 - val_acc: 0.4868\n",
      "Epoch 48/50\n",
      "50000/50000 [==============================] - 3s 64us/step - loss: 0.5277 - acc: 0.8503 - val_loss: 1.6639 - val_acc: 0.4884\n",
      "Epoch 49/50\n",
      "50000/50000 [==============================] - 3s 64us/step - loss: 0.5128 - acc: 0.8554 - val_loss: 1.6805 - val_acc: 0.4843\n",
      "Epoch 50/50\n",
      "50000/50000 [==============================] - 3s 64us/step - loss: 0.4976 - acc: 0.8613 - val_loss: 1.7034 - val_acc: 0.4819\n"
     ]
    }
   ],
   "source": [
    "# 載入 Callbacks\n",
    "\"\"\"Code Here\n",
    "設定 callbacks: model checkpoint\n",
    "\"\"\"\n",
    "from keras.callbacks import ModelCheckpoint\n",
    "\n",
    "results = {}\n",
    "\"\"\"Code Here\n",
    "撰寫你的訓練流程並將結果用 dictionary 紀錄\n",
    "\"\"\"\n",
    "for savebest in SAVE_BEST:\n",
    "    keras.backend.clear_session() # 把舊的 Graph 清掉\n",
    "    print(\"Experiment with savebest = %s\" % (str(savebest)))\n",
    "    model = build_mlp(input_shape=x_train.shape[1:])\n",
    "    model.summary()\n",
    "    optimizer = keras.optimizers.SGD(lr=LEARNING_RATE, nesterov=True, momentum=MOMENTUM)\n",
    "    model.compile(loss=\"categorical_crossentropy\", metrics=[\"accuracy\"], optimizer=optimizer)\n",
    "\n",
    "    model_ckpt = ModelCheckpoint(filepath=\"Day_086_HW_\"+str(savebest)+\".h5\", \n",
    "                                 monitor=\"val_loss\", \n",
    "                                 save_best_only=savebest)\n",
    "    \n",
    "    model.fit(x_train, y_train, \n",
    "              epochs=EPOCHS, \n",
    "              batch_size=BATCH_SIZE, \n",
    "              validation_data=(x_test, y_test), \n",
    "              shuffle=True,\n",
    "              callbacks=[model_ckpt]\n",
    "             )\n",
    "    \n",
    "    # Collect results\n",
    "    train_loss = model.history.history[\"loss\"]\n",
    "    valid_loss = model.history.history[\"val_loss\"]\n",
    "    train_acc = model.history.history[\"acc\"]\n",
    "    valid_acc = model.history.history[\"val_acc\"]\n",
    "    \n",
    "    exp_name_tag = \"savebest-%s\" % (str(savebest))\n",
    "    results[exp_name_tag] = {'train-loss': train_loss,\n",
    "                             'valid-loss': valid_loss,\n",
    "                             'train-acc': train_acc,\n",
    "                             'valid-acc': valid_acc}"
   ]
  },
  {
   "cell_type": "code",
   "execution_count": 8,
   "metadata": {},
   "outputs": [
    {
     "name": "stdout",
     "output_type": "stream",
     "text": [
      "10000/10000 [==============================] - 1s 91us/step\n"
     ]
    }
   ],
   "source": [
    "# Load back\n",
    "model = keras.models.load_model(\"Day_086_HW_True.h5\")\n",
    "loss_loadback, acc_loadback = model.evaluate(x_test, y_test)"
   ]
  },
  {
   "cell_type": "code",
   "execution_count": 9,
   "metadata": {
    "scrolled": true
   },
   "outputs": [
    {
     "data": {
      "image/png": "[encoded data removed]",
      "text/plain": [
       "<Figure size 432x288 with 1 Axes>"
      ]
     },
     "metadata": {
      "needs_background": "light"
     },
     "output_type": "display_data"
    },
    {
     "data": {
      "image/png": "[encoded data removed]",
      "text/plain": [
       "<Figure size 432x288 with 1 Axes>"
      ]
     },
     "metadata": {
      "needs_background": "light"
     },
     "output_type": "display_data"
    }
   ],
   "source": [
    "import matplotlib.pyplot as plt\n",
    "%matplotlib inline\n",
    "\"\"\"Code Here\n",
    "將結果繪出\n",
    "\"\"\"\n",
    "plt.plot(range(len(results['savebest-True']['train-loss'])), results['savebest-True']['train-loss'], label=\"train loss\")\n",
    "plt.plot(range(len(results['savebest-True']['valid-loss'])), results['savebest-True']['valid-loss'], label=\"valid loss\")\n",
    "plt.hlines(y=loss_loadback, xmin=0, xmax=len(results['savebest-True']['train-loss']), colors='r', linestyles='--')\n",
    "plt.legend()\n",
    "plt.title(\"Loss\")\n",
    "plt.show()\n",
    "\n",
    "plt.plot(range(len(results['savebest-True']['train-acc'])), results['savebest-True']['train-acc'], label=\"train accuracy\")\n",
    "plt.plot(range(len(results['savebest-True']['valid-acc'])), results['savebest-True']['valid-acc'], label=\"valid accuracy\")\n",
    "plt.hlines(y=acc_loadback, xmin=0, xmax=len(results['savebest-True']['valid-acc']), colors='r', linestyles='--')\n",
    "plt.legend()\n",
    "plt.title(\"Accuracy\")\n",
    "plt.show()"
   ]
  },
  {
   "cell_type": "code",
   "execution_count": 10,
   "metadata": {},
   "outputs": [
    {
     "name": "stdout",
     "output_type": "stream",
     "text": [
      "10000/10000 [==============================] - 1s 91us/step\n"
     ]
    }
   ],
   "source": [
    "# Load back\n",
    "model = keras.models.load_model(\"Day_086_HW_False.h5\")\n",
    "loss_loadback, acc_loadback = model.evaluate(x_test, y_test)"
   ]
  },
  {
   "cell_type": "code",
   "execution_count": 11,
   "metadata": {},
   "outputs": [
    {
     "data": {
      "image/png": "[encoded data removed]",
      "text/plain": [
       "<Figure size 432x288 with 1 Axes>"
      ]
     },
     "metadata": {
      "needs_background": "light"
     },
     "output_type": "display_data"
    },
    {
     "data": {
      "image/png": "[encoded data removed]",
      "text/plain": [
       "<Figure size 432x288 with 1 Axes>"
      ]
     },
     "metadata": {
      "needs_background": "light"
     },
     "output_type": "display_data"
    }
   ],
   "source": [
    "plt.plot(range(len(results['savebest-False']['train-loss'])), results['savebest-False']['train-loss'], label=\"train loss\")\n",
    "plt.plot(range(len(results['savebest-False']['valid-loss'])), results['savebest-False']['valid-loss'], label=\"valid loss\")\n",
    "plt.hlines(y=loss_loadback, xmin=0, xmax=len(results['savebest-False']['train-loss']), colors='r', linestyles='--')\n",
    "plt.legend()\n",
    "plt.title(\"Loss\")\n",
    "plt.show()\n",
    "\n",
    "plt.plot(range(len(results['savebest-False']['train-acc'])), results['savebest-False']['train-acc'], label=\"train accuracy\")\n",
    "plt.plot(range(len(results['savebest-False']['valid-acc'])), results['savebest-False']['valid-acc'], label=\"valid accuracy\")\n",
    "plt.hlines(y=acc_loadback, xmin=0, xmax=len(results['savebest-False']['valid-acc']), colors='r', linestyles='--')\n",
    "plt.legend()\n",
    "plt.title(\"Accuracy\")\n",
    "plt.show()"
   ]
  },
  {
   "cell_type": "markdown",
   "metadata": {},
   "source": [
    "# 請僅存入將 save_weights_only 設定為 True, 並嘗試 reset ipynb 並將模型與權重重新建回並預測 x_test"
   ]
  },
  {
   "cell_type": "code",
   "execution_count": 15,
   "metadata": {},
   "outputs": [],
   "source": [
    "## 超參數設定\n",
    "LEARNING_RATE = 1e-3\n",
    "EPOCHS = 50\n",
    "BATCH_SIZE = 1024\n",
    "MOMENTUM = 0.95"
   ]
  },
  {
   "cell_type": "code",
   "execution_count": 16,
   "metadata": {},
   "outputs": [
    {
     "name": "stdout",
     "output_type": "stream",
     "text": [
      "_________________________________________________________________\n",
      "Layer (type)                 Output Shape              Param #   \n",
      "=================================================================\n",
      "input_2 (InputLayer)         (None, 3072)              0         \n",
      "_________________________________________________________________\n",
      "hidden_layer1 (Dense)        (None, 512)               1573376   \n",
      "_________________________________________________________________\n",
      "batch_normalization_4 (Batch (None, 512)               2048      \n",
      "_________________________________________________________________\n",
      "hidden_layer2 (Dense)        (None, 256)               131328    \n",
      "_________________________________________________________________\n",
      "batch_normalization_5 (Batch (None, 256)               1024      \n",
      "_________________________________________________________________\n",
      "hidden_layer3 (Dense)        (None, 128)               32896     \n",
      "_________________________________________________________________\n",
      "batch_normalization_6 (Batch (None, 128)               512       \n",
      "_________________________________________________________________\n",
      "output (Dense)               (None, 10)                1290      \n",
      "=================================================================\n",
      "Total params: 1,742,474\n",
      "Trainable params: 1,740,682\n",
      "Non-trainable params: 1,792\n",
      "_________________________________________________________________\n",
      "Train on 50000 samples, validate on 10000 samples\n",
      "Epoch 1/50\n",
      "50000/50000 [==============================] - 4s 89us/step - loss: 2.2160 - acc: 0.2684 - val_loss: 2.0405 - val_acc: 0.3234\n",
      "Epoch 2/50\n",
      "50000/50000 [==============================] - 3s 64us/step - loss: 1.7530 - acc: 0.3913 - val_loss: 1.8238 - val_acc: 0.3726\n",
      "Epoch 3/50\n",
      "50000/50000 [==============================] - 3s 64us/step - loss: 1.6240 - acc: 0.4321 - val_loss: 1.6955 - val_acc: 0.4041\n",
      "Epoch 4/50\n",
      "50000/50000 [==============================] - 3s 65us/step - loss: 1.5494 - acc: 0.4595 - val_loss: 1.6515 - val_acc: 0.4238\n",
      "Epoch 5/50\n",
      "50000/50000 [==============================] - 3s 64us/step - loss: 1.4939 - acc: 0.4785 - val_loss: 1.6056 - val_acc: 0.4304\n",
      "Epoch 6/50\n",
      "50000/50000 [==============================] - 3s 64us/step - loss: 1.4490 - acc: 0.4954 - val_loss: 1.5716 - val_acc: 0.4456\n",
      "Epoch 7/50\n",
      "50000/50000 [==============================] - 3s 65us/step - loss: 1.4090 - acc: 0.5091 - val_loss: 1.5543 - val_acc: 0.4533\n",
      "Epoch 8/50\n",
      "50000/50000 [==============================] - 3s 65us/step - loss: 1.3715 - acc: 0.5231 - val_loss: 1.5312 - val_acc: 0.4567\n",
      "Epoch 9/50\n",
      "50000/50000 [==============================] - 3s 65us/step - loss: 1.3391 - acc: 0.5348 - val_loss: 1.5179 - val_acc: 0.4598\n",
      "Epoch 10/50\n",
      "50000/50000 [==============================] - 3s 64us/step - loss: 1.3092 - acc: 0.5447 - val_loss: 1.5051 - val_acc: 0.4689\n",
      "Epoch 11/50\n",
      "50000/50000 [==============================] - 3s 63us/step - loss: 1.2793 - acc: 0.5572 - val_loss: 1.4854 - val_acc: 0.4734\n",
      "Epoch 12/50\n",
      "50000/50000 [==============================] - 3s 64us/step - loss: 1.2537 - acc: 0.5663 - val_loss: 1.4935 - val_acc: 0.4752\n",
      "Epoch 13/50\n",
      "50000/50000 [==============================] - 3s 65us/step - loss: 1.2273 - acc: 0.5772 - val_loss: 1.4700 - val_acc: 0.4787\n",
      "Epoch 14/50\n",
      "50000/50000 [==============================] - 3s 65us/step - loss: 1.2007 - acc: 0.5862 - val_loss: 1.4706 - val_acc: 0.4766\n",
      "Epoch 15/50\n",
      "50000/50000 [==============================] - 3s 64us/step - loss: 1.1782 - acc: 0.5958 - val_loss: 1.4711 - val_acc: 0.4816\n",
      "Epoch 16/50\n",
      "50000/50000 [==============================] - 3s 64us/step - loss: 1.1528 - acc: 0.6051 - val_loss: 1.4641 - val_acc: 0.4834\n",
      "Epoch 17/50\n",
      "50000/50000 [==============================] - 3s 65us/step - loss: 1.1298 - acc: 0.6156 - val_loss: 1.4528 - val_acc: 0.4833\n",
      "Epoch 18/50\n",
      "50000/50000 [==============================] - 3s 63us/step - loss: 1.1076 - acc: 0.6217 - val_loss: 1.4475 - val_acc: 0.4855\n",
      "Epoch 19/50\n",
      "50000/50000 [==============================] - 3s 64us/step - loss: 1.0854 - acc: 0.6295 - val_loss: 1.4541 - val_acc: 0.4866\n",
      "Epoch 20/50\n",
      "50000/50000 [==============================] - 3s 63us/step - loss: 1.0626 - acc: 0.6404 - val_loss: 1.4426 - val_acc: 0.4899\n",
      "Epoch 21/50\n",
      "50000/50000 [==============================] - 3s 64us/step - loss: 1.0399 - acc: 0.6484 - val_loss: 1.4480 - val_acc: 0.4906\n",
      "Epoch 22/50\n",
      "50000/50000 [==============================] - 3s 64us/step - loss: 1.0199 - acc: 0.6555 - val_loss: 1.4502 - val_acc: 0.4893\n",
      "Epoch 23/50\n",
      "50000/50000 [==============================] - 3s 64us/step - loss: 0.9994 - acc: 0.6629 - val_loss: 1.4494 - val_acc: 0.4975\n",
      "Epoch 24/50\n",
      "50000/50000 [==============================] - 3s 64us/step - loss: 0.9777 - acc: 0.6721 - val_loss: 1.4525 - val_acc: 0.4957\n",
      "Epoch 25/50\n",
      "50000/50000 [==============================] - 3s 64us/step - loss: 0.9558 - acc: 0.6812 - val_loss: 1.4501 - val_acc: 0.4957\n",
      "Epoch 26/50\n",
      "50000/50000 [==============================] - 3s 64us/step - loss: 0.9333 - acc: 0.6889 - val_loss: 1.4541 - val_acc: 0.4937\n",
      "Epoch 27/50\n",
      "50000/50000 [==============================] - 3s 64us/step - loss: 0.9138 - acc: 0.6973 - val_loss: 1.4557 - val_acc: 0.4958\n",
      "Epoch 28/50\n",
      "50000/50000 [==============================] - 3s 64us/step - loss: 0.8921 - acc: 0.7050 - val_loss: 1.4647 - val_acc: 0.4946\n",
      "Epoch 29/50\n",
      "50000/50000 [==============================] - 3s 64us/step - loss: 0.8724 - acc: 0.7122 - val_loss: 1.4750 - val_acc: 0.4938\n",
      "Epoch 30/50\n",
      "50000/50000 [==============================] - 3s 63us/step - loss: 0.8549 - acc: 0.7187 - val_loss: 1.4654 - val_acc: 0.4991\n",
      "Epoch 31/50\n",
      "50000/50000 [==============================] - 3s 64us/step - loss: 0.8351 - acc: 0.7261 - val_loss: 1.4905 - val_acc: 0.4875\n",
      "Epoch 32/50\n",
      "50000/50000 [==============================] - 3s 64us/step - loss: 0.8132 - acc: 0.7353 - val_loss: 1.5141 - val_acc: 0.4853\n",
      "Epoch 33/50\n",
      "50000/50000 [==============================] - 3s 64us/step - loss: 0.7953 - acc: 0.7419 - val_loss: 1.5049 - val_acc: 0.4946\n",
      "Epoch 34/50\n",
      "50000/50000 [==============================] - 3s 64us/step - loss: 0.7726 - acc: 0.7512 - val_loss: 1.5032 - val_acc: 0.4925\n",
      "Epoch 35/50\n",
      "50000/50000 [==============================] - 3s 64us/step - loss: 0.7528 - acc: 0.7597 - val_loss: 1.5021 - val_acc: 0.4952\n",
      "Epoch 36/50\n",
      "50000/50000 [==============================] - 3s 64us/step - loss: 0.7344 - acc: 0.7663 - val_loss: 1.5310 - val_acc: 0.4944\n",
      "Epoch 37/50\n",
      "50000/50000 [==============================] - 3s 64us/step - loss: 0.7171 - acc: 0.7742 - val_loss: 1.5320 - val_acc: 0.4954\n",
      "Epoch 38/50\n",
      "50000/50000 [==============================] - 3s 64us/step - loss: 0.6981 - acc: 0.7815 - val_loss: 1.5387 - val_acc: 0.4923\n",
      "Epoch 39/50\n",
      "50000/50000 [==============================] - 3s 64us/step - loss: 0.6789 - acc: 0.7883 - val_loss: 1.5489 - val_acc: 0.4948\n",
      "Epoch 40/50\n",
      "50000/50000 [==============================] - 3s 64us/step - loss: 0.6581 - acc: 0.7972 - val_loss: 1.5615 - val_acc: 0.4958\n",
      "Epoch 41/50\n",
      "50000/50000 [==============================] - 3s 64us/step - loss: 0.6426 - acc: 0.8030 - val_loss: 1.5766 - val_acc: 0.4895\n",
      "Epoch 42/50\n",
      "50000/50000 [==============================] - 3s 64us/step - loss: 0.6231 - acc: 0.8104 - val_loss: 1.5865 - val_acc: 0.4862\n",
      "Epoch 43/50\n",
      "50000/50000 [==============================] - 3s 64us/step - loss: 0.6042 - acc: 0.8187 - val_loss: 1.6017 - val_acc: 0.4864\n",
      "Epoch 44/50\n",
      "50000/50000 [==============================] - 3s 64us/step - loss: 0.5879 - acc: 0.8250 - val_loss: 1.6089 - val_acc: 0.4887\n",
      "Epoch 45/50\n",
      "50000/50000 [==============================] - 3s 63us/step - loss: 0.5708 - acc: 0.8319 - val_loss: 1.6182 - val_acc: 0.4950\n",
      "Epoch 46/50\n",
      "50000/50000 [==============================] - 3s 63us/step - loss: 0.5517 - acc: 0.8381 - val_loss: 1.6180 - val_acc: 0.4910\n",
      "Epoch 47/50\n",
      "50000/50000 [==============================] - 3s 64us/step - loss: 0.5344 - acc: 0.8463 - val_loss: 1.6463 - val_acc: 0.4874\n",
      "Epoch 48/50\n",
      "50000/50000 [==============================] - 3s 64us/step - loss: 0.5157 - acc: 0.8535 - val_loss: 1.6887 - val_acc: 0.4863\n",
      "Epoch 49/50\n",
      "50000/50000 [==============================] - 3s 64us/step - loss: 0.5012 - acc: 0.8576 - val_loss: 1.6865 - val_acc: 0.4876\n"
     ]
    },
    {
     "name": "stdout",
     "output_type": "stream",
     "text": [
      "Epoch 50/50\n",
      "50000/50000 [==============================] - 3s 63us/step - loss: 0.4850 - acc: 0.8657 - val_loss: 1.6817 - val_acc: 0.4850\n"
     ]
    }
   ],
   "source": [
    "# 載入 Callbacks\n",
    "\"\"\"Code Here\n",
    "設定 callbacks: model checkpoint\n",
    "\"\"\"\n",
    "from keras.callbacks import ModelCheckpoint\n",
    "\n",
    "model = build_mlp(input_shape=x_train.shape[1:])\n",
    "model.summary()\n",
    "optimizer = keras.optimizers.SGD(lr=LEARNING_RATE, nesterov=True, momentum=MOMENTUM)\n",
    "model.compile(loss=\"categorical_crossentropy\", metrics=[\"accuracy\"], optimizer=optimizer)\n",
    "\n",
    "model_ckpt = ModelCheckpoint(filepath=\"Day_086_HW_Weights.weight\", \n",
    "                             monitor=\"val_loss\", \n",
    "                             save_best_only=True,\n",
    "                             save_weights_only=True)\n",
    "    \n",
    "model.fit(x_train, y_train, \n",
    "          epochs=EPOCHS, \n",
    "          batch_size=BATCH_SIZE, \n",
    "          validation_data=(x_test, y_test), \n",
    "          shuffle=True,\n",
    "          callbacks=[model_ckpt]\n",
    "         )\n",
    "    \n",
    "# Collect results\n",
    "train_loss = model.history.history[\"loss\"]\n",
    "valid_loss = model.history.history[\"val_loss\"]\n",
    "train_acc = model.history.history[\"acc\"]\n",
    "valid_acc = model.history.history[\"val_acc\"]"
   ]
  },
  {
   "cell_type": "code",
   "execution_count": 18,
   "metadata": {},
   "outputs": [
    {
     "name": "stdout",
     "output_type": "stream",
     "text": [
      "10000/10000 [==============================] - 1s 105us/step\n"
     ]
    }
   ],
   "source": [
    "model = build_mlp(input_shape=x_train.shape[1:])\n",
    "model.load_weights(\"Day_086_HW_Weights.weight\")\n",
    "optimizer = keras.optimizers.SGD(lr=LEARNING_RATE, nesterov=True, momentum=MOMENTUM)\n",
    "model.compile(loss=\"categorical_crossentropy\", metrics=[\"accuracy\"], optimizer=optimizer)\n",
    "loss_loadback, acc_loadback = model.evaluate(x_test, y_test)"
   ]
  },
  {
   "cell_type": "code",
   "execution_count": 19,
   "metadata": {},
   "outputs": [
    {
     "data": {
      "image/png": "[encoded data removed]",
      "text/plain": [
       "<Figure size 432x288 with 1 Axes>"
      ]
     },
     "metadata": {
      "needs_background": "light"
     },
     "output_type": "display_data"
    },
    {
     "data": {
      "image/png": "[encoded data removed]",
      "text/plain": [
       "<Figure size 432x288 with 1 Axes>"
      ]
     },
     "metadata": {
      "needs_background": "light"
     },
     "output_type": "display_data"
    }
   ],
   "source": [
    "plt.plot(range(len(train_loss)), train_loss, label=\"train loss\")\n",
    "plt.plot(range(len(valid_loss)), valid_loss, label=\"valid loss\")\n",
    "plt.hlines(y=loss_loadback, xmin=0, xmax=len(train_loss), colors='r', linestyles='--')\n",
    "plt.legend()\n",
    "plt.title(\"Loss\")\n",
    "plt.show()\n",
    "\n",
    "plt.plot(range(len(train_acc)), train_acc, label=\"train accuracy\")\n",
    "plt.plot(range(len(valid_acc)), valid_acc, label=\"valid accuracy\")\n",
    "plt.hlines(y=acc_loadback, xmin=0, xmax=len(train_loss), colors='r', linestyles='--')\n",
    "plt.legend()\n",
    "plt.title(\"Accuracy\")\n",
    "plt.show()"
   ]
  },
  {
   "cell_type": "code",
   "execution_count": null,
   "metadata": {},
   "outputs": [],
   "source": []
  }
 ],
 "metadata": {
  "kernelspec": {
   "display_name": "Python-keras35",
   "language": "python",
   "name": "keras35"
  },
  "language_info": {
   "codemirror_mode": {
    "name": "ipython",
    "version": 3
   },
   "file_extension": ".py",
   "mimetype": "text/x-python",
   "name": "python",
   "nbconvert_exporter": "python",
   "pygments_lexer": "ipython3",
   "version": "3.5.6"
  }
 },
 "nbformat": 4,
 "nbformat_minor": 2
}
