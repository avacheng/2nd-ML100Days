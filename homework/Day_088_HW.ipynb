{
 "cells": [
  {
   "cell_type": "markdown",
   "metadata": {},
   "source": [
    "## Work\n",
    "1. 請嘗試寫一個 callback 用來記錄各類別在訓練過程中，對驗證集的 True Positive 與 True Negative"
   ]
  },
  {
   "cell_type": "code",
   "execution_count": 1,
   "metadata": {},
   "outputs": [
    {
     "name": "stderr",
     "output_type": "stream",
     "text": [
      "Using TensorFlow backend.\n"
     ]
    }
   ],
   "source": [
    "import os\n",
    "import keras\n",
    "\n",
    "# Disable GPU\n",
    "os.environ[\"CUDA_VISIBLE_DEVICES\"] = \"0\""
   ]
  },
  {
   "cell_type": "code",
   "execution_count": 2,
   "metadata": {},
   "outputs": [],
   "source": [
    "train, test = keras.datasets.cifar10.load_data()"
   ]
  },
  {
   "cell_type": "code",
   "execution_count": 3,
   "metadata": {},
   "outputs": [],
   "source": [
    "## 資料前處理\n",
    "def preproc_x(x, flatten=True):\n",
    "    x = x / 255.\n",
    "    if flatten:\n",
    "        x = x.reshape((len(x), -1))\n",
    "    return x\n",
    "\n",
    "def preproc_y(y, num_classes=10):\n",
    "    if y.shape[-1] == 1:\n",
    "        y = keras.utils.to_categorical(y, num_classes)\n",
    "    return y    "
   ]
  },
  {
   "cell_type": "code",
   "execution_count": 4,
   "metadata": {},
   "outputs": [],
   "source": [
    "x_train, y_train = train\n",
    "x_test, y_test = test\n",
    "\n",
    "# Preproc the inputs\n",
    "x_train = preproc_x(x_train)\n",
    "x_test = preproc_x(x_test)\n",
    "\n",
    "# Preprc the outputs\n",
    "y_train = preproc_y(y_train)\n",
    "y_test = preproc_y(y_test)"
   ]
  },
  {
   "cell_type": "code",
   "execution_count": 5,
   "metadata": {},
   "outputs": [],
   "source": [
    "from keras.layers import BatchNormalization\n",
    "def build_mlp(input_shape, output_units=10, num_neurons=[256, 256, 256]):\n",
    "    \"\"\"Code Here\n",
    "    建立你的神經網路\n",
    "    \"\"\"\n",
    "    input_layer = keras.layers.Input(input_shape)\n",
    "    \n",
    "    for i, n_units in enumerate(num_neurons):\n",
    "        if i == 0:\n",
    "            x = keras.layers.Dense(units=n_units, \n",
    "                                   activation=\"relu\", \n",
    "                                   name=\"hidden_layer\"+str(i+1))(input_layer)\n",
    "            x = BatchNormalization()(x)\n",
    "        else:\n",
    "            x = keras.layers.Dense(units=n_units, \n",
    "                                   activation=\"relu\", \n",
    "                                   name=\"hidden_layer\"+str(i+1))(x)\n",
    "            x = BatchNormalization()(x)\n",
    "    \n",
    "    out = keras.layers.Dense(units=output_units, activation=\"softmax\", name=\"output\")(x)\n",
    "    \n",
    "    model = keras.models.Model(inputs=[input_layer], outputs=[out])\n",
    "    return model"
   ]
  },
  {
   "cell_type": "code",
   "execution_count": 6,
   "metadata": {},
   "outputs": [],
   "source": [
    "## 超參數設定\n",
    "LEARNING_RATE = 1e-3\n",
    "EPOCHS = 50\n",
    "BATCH_SIZE = 1024\n",
    "MOMENTUM = 0.95"
   ]
  },
  {
   "cell_type": "code",
   "execution_count": 7,
   "metadata": {},
   "outputs": [],
   "source": [
    "# 載入 Callbacks\n",
    "from keras.callbacks import Callback\n",
    "from sklearn.metrics import confusion_matrix,multilabel_confusion_matrix\n",
    "import numpy as np\n",
    "\n",
    "# Record_fp_tp\n",
    "class Record_tp_tn(Callback):\n",
    "    \"\"\"Code Here\n",
    "    撰寫一個紀錄 ture positive 與 true negative 數量的 callbacks    \n",
    "    \"\"\"\n",
    "    def on_train_begin(self, epoch, logs = {}):\n",
    "        logs = logs or {}\n",
    "        record_items = [\"val_auc\", \"val_f1sc\", \"val_fp\", \"val_fn\", \"val_tp\", \"val_tn\"]\n",
    "        for i in record_items:\n",
    "            if i not in self.params['metrics']:\n",
    "                self.params['metrics'].append(i)\n",
    "    \n",
    "    def on_epoch_end(self, epoch, logs = {}, thres=0.5):\n",
    "        logs = logs or {}\n",
    "        y_true = self.validation_data[1].argmax(axis = 1)\n",
    "        y_pred = self.model.predict(self.validation_data[0])\n",
    "        y_pred = (y_pred[:, 1] >= thres) * 1\n",
    "        \n",
    "        metrics = confusion_matrix(y_true, y_pred)\n",
    "        logs[\"val_tp\"] = metrics[1,1]\n",
    "        logs[\"val_tn\"] = metrics[0,0]\n",
    "        \n",
    "rec_tptn = Record_tp_tn()"
   ]
  },
  {
   "cell_type": "code",
   "execution_count": 8,
   "metadata": {
    "scrolled": true
   },
   "outputs": [
    {
     "name": "stdout",
     "output_type": "stream",
     "text": [
      "_________________________________________________________________\n",
      "Layer (type)                 Output Shape              Param #   \n",
      "=================================================================\n",
      "input_1 (InputLayer)         (None, 3072)              0         \n",
      "_________________________________________________________________\n",
      "hidden_layer1 (Dense)        (None, 256)               786688    \n",
      "_________________________________________________________________\n",
      "batch_normalization_1 (Batch (None, 256)               1024      \n",
      "_________________________________________________________________\n",
      "hidden_layer2 (Dense)        (None, 256)               65792     \n",
      "_________________________________________________________________\n",
      "batch_normalization_2 (Batch (None, 256)               1024      \n",
      "_________________________________________________________________\n",
      "hidden_layer3 (Dense)        (None, 256)               65792     \n",
      "_________________________________________________________________\n",
      "batch_normalization_3 (Batch (None, 256)               1024      \n",
      "_________________________________________________________________\n",
      "output (Dense)               (None, 10)                2570      \n",
      "=================================================================\n",
      "Total params: 923,914\n",
      "Trainable params: 922,378\n",
      "Non-trainable params: 1,536\n",
      "_________________________________________________________________\n",
      "Train on 50000 samples, validate on 10000 samples\n",
      "Epoch 1/50\n",
      "50000/50000 [==============================] - 8s 155us/step - loss: 2.2342 - acc: 0.2654 - val_loss: 2.1801 - val_acc: 0.3020\n",
      "Epoch 2/50\n",
      "50000/50000 [==============================] - 4s 86us/step - loss: 1.7676 - acc: 0.3824 - val_loss: 1.8485 - val_acc: 0.3741\n",
      "Epoch 3/50\n",
      "50000/50000 [==============================] - 4s 71us/step - loss: 1.6372 - acc: 0.4270 - val_loss: 1.7265 - val_acc: 0.4022\n",
      "Epoch 4/50\n",
      "50000/50000 [==============================] - 4s 72us/step - loss: 1.5622 - acc: 0.4531 - val_loss: 1.6507 - val_acc: 0.4187\n",
      "Epoch 5/50\n",
      "50000/50000 [==============================] - 3s 63us/step - loss: 1.5080 - acc: 0.4712 - val_loss: 1.6147 - val_acc: 0.4333\n",
      "Epoch 6/50\n",
      "50000/50000 [==============================] - 3s 59us/step - loss: 1.4644 - acc: 0.4868 - val_loss: 1.5750 - val_acc: 0.4508\n",
      "Epoch 7/50\n",
      "50000/50000 [==============================] - 3s 60us/step - loss: 1.4230 - acc: 0.5024 - val_loss: 1.5751 - val_acc: 0.4480\n",
      "Epoch 8/50\n",
      "50000/50000 [==============================] - 3s 57us/step - loss: 1.3906 - acc: 0.5131 - val_loss: 1.5471 - val_acc: 0.4581\n",
      "Epoch 9/50\n",
      "50000/50000 [==============================] - 3s 54us/step - loss: 1.3612 - acc: 0.5251 - val_loss: 1.5246 - val_acc: 0.4704\n",
      "Epoch 10/50\n",
      "50000/50000 [==============================] - 3s 54us/step - loss: 1.3325 - acc: 0.5353 - val_loss: 1.5040 - val_acc: 0.4692\n",
      "Epoch 11/50\n",
      "50000/50000 [==============================] - 3s 55us/step - loss: 1.3064 - acc: 0.5451 - val_loss: 1.4978 - val_acc: 0.4788\n",
      "Epoch 12/50\n",
      "50000/50000 [==============================] - 3s 54us/step - loss: 1.2821 - acc: 0.5541 - val_loss: 1.5105 - val_acc: 0.4724\n",
      "Epoch 13/50\n",
      "50000/50000 [==============================] - 3s 54us/step - loss: 1.2597 - acc: 0.5618 - val_loss: 1.4783 - val_acc: 0.4799\n",
      "Epoch 14/50\n",
      "50000/50000 [==============================] - 3s 54us/step - loss: 1.2389 - acc: 0.5682 - val_loss: 1.4749 - val_acc: 0.4845\n",
      "Epoch 15/50\n",
      "50000/50000 [==============================] - 3s 55us/step - loss: 1.2172 - acc: 0.5768 - val_loss: 1.4623 - val_acc: 0.4839\n",
      "Epoch 16/50\n",
      "50000/50000 [==============================] - 3s 55us/step - loss: 1.1953 - acc: 0.5859 - val_loss: 1.4654 - val_acc: 0.4940\n",
      "Epoch 17/50\n",
      "50000/50000 [==============================] - 3s 54us/step - loss: 1.1773 - acc: 0.5932 - val_loss: 1.4513 - val_acc: 0.4912\n",
      "Epoch 18/50\n",
      "50000/50000 [==============================] - 3s 55us/step - loss: 1.1570 - acc: 0.5982 - val_loss: 1.4497 - val_acc: 0.4948\n",
      "Epoch 19/50\n",
      "50000/50000 [==============================] - 3s 55us/step - loss: 1.1396 - acc: 0.6071 - val_loss: 1.4492 - val_acc: 0.4951\n",
      "Epoch 20/50\n",
      "50000/50000 [==============================] - 3s 54us/step - loss: 1.1197 - acc: 0.6140 - val_loss: 1.4488 - val_acc: 0.4947\n",
      "Epoch 21/50\n",
      "50000/50000 [==============================] - 3s 55us/step - loss: 1.1022 - acc: 0.6218 - val_loss: 1.4353 - val_acc: 0.4993\n",
      "Epoch 22/50\n",
      "50000/50000 [==============================] - 3s 55us/step - loss: 1.0843 - acc: 0.6264 - val_loss: 1.4574 - val_acc: 0.4918\n",
      "Epoch 23/50\n",
      "50000/50000 [==============================] - 3s 54us/step - loss: 1.0675 - acc: 0.6340 - val_loss: 1.4554 - val_acc: 0.4881\n",
      "Epoch 24/50\n",
      "50000/50000 [==============================] - 3s 54us/step - loss: 1.0510 - acc: 0.6410 - val_loss: 1.4455 - val_acc: 0.4963\n",
      "Epoch 25/50\n",
      "50000/50000 [==============================] - 3s 54us/step - loss: 1.0330 - acc: 0.6474 - val_loss: 1.4435 - val_acc: 0.5032\n",
      "Epoch 26/50\n",
      "50000/50000 [==============================] - 3s 54us/step - loss: 1.0178 - acc: 0.6535 - val_loss: 1.4459 - val_acc: 0.4968\n",
      "Epoch 27/50\n",
      "50000/50000 [==============================] - 3s 54us/step - loss: 1.0004 - acc: 0.6604 - val_loss: 1.4439 - val_acc: 0.5019\n",
      "Epoch 28/50\n",
      "50000/50000 [==============================] - 3s 54us/step - loss: 0.9837 - acc: 0.6666 - val_loss: 1.4501 - val_acc: 0.4962\n",
      "Epoch 29/50\n",
      "50000/50000 [==============================] - 3s 55us/step - loss: 0.9689 - acc: 0.6738 - val_loss: 1.4486 - val_acc: 0.5018\n",
      "Epoch 30/50\n",
      "50000/50000 [==============================] - 3s 55us/step - loss: 0.9513 - acc: 0.6787 - val_loss: 1.4478 - val_acc: 0.4987\n",
      "Epoch 31/50\n",
      "50000/50000 [==============================] - 3s 55us/step - loss: 0.9357 - acc: 0.6859 - val_loss: 1.4684 - val_acc: 0.4976\n",
      "Epoch 32/50\n",
      "50000/50000 [==============================] - 3s 54us/step - loss: 0.9229 - acc: 0.6895 - val_loss: 1.4479 - val_acc: 0.5016\n",
      "Epoch 33/50\n",
      "50000/50000 [==============================] - 3s 54us/step - loss: 0.9037 - acc: 0.6982 - val_loss: 1.4614 - val_acc: 0.4998\n",
      "Epoch 34/50\n",
      "50000/50000 [==============================] - 3s 55us/step - loss: 0.8906 - acc: 0.7030 - val_loss: 1.4545 - val_acc: 0.5053\n",
      "Epoch 35/50\n",
      "50000/50000 [==============================] - 3s 56us/step - loss: 0.8742 - acc: 0.7099 - val_loss: 1.4704 - val_acc: 0.5040\n",
      "Epoch 36/50\n",
      "50000/50000 [==============================] - 3s 57us/step - loss: 0.8599 - acc: 0.7144 - val_loss: 1.4728 - val_acc: 0.5033\n",
      "Epoch 37/50\n",
      "50000/50000 [==============================] - 3s 56us/step - loss: 0.8460 - acc: 0.7191 - val_loss: 1.4743 - val_acc: 0.5013\n",
      "Epoch 38/50\n",
      "50000/50000 [==============================] - 3s 55us/step - loss: 0.8296 - acc: 0.7257 - val_loss: 1.4778 - val_acc: 0.5006\n",
      "Epoch 39/50\n",
      "50000/50000 [==============================] - 3s 55us/step - loss: 0.8142 - acc: 0.7326 - val_loss: 1.4839 - val_acc: 0.4980\n",
      "Epoch 40/50\n",
      "50000/50000 [==============================] - 3s 55us/step - loss: 0.7999 - acc: 0.7386 - val_loss: 1.4797 - val_acc: 0.5020\n",
      "Epoch 41/50\n",
      "50000/50000 [==============================] - 3s 56us/step - loss: 0.7856 - acc: 0.7446 - val_loss: 1.4941 - val_acc: 0.4954\n",
      "Epoch 42/50\n",
      "50000/50000 [==============================] - 3s 55us/step - loss: 0.7704 - acc: 0.7502 - val_loss: 1.5250 - val_acc: 0.4964\n",
      "Epoch 43/50\n",
      "50000/50000 [==============================] - 3s 55us/step - loss: 0.7581 - acc: 0.7562 - val_loss: 1.5032 - val_acc: 0.4996\n",
      "Epoch 44/50\n",
      "50000/50000 [==============================] - 3s 55us/step - loss: 0.7430 - acc: 0.7613 - val_loss: 1.5160 - val_acc: 0.4943\n",
      "Epoch 45/50\n",
      "50000/50000 [==============================] - 3s 55us/step - loss: 0.7273 - acc: 0.7671 - val_loss: 1.5208 - val_acc: 0.5009\n",
      "Epoch 46/50\n",
      "50000/50000 [==============================] - 3s 55us/step - loss: 0.7141 - acc: 0.7719 - val_loss: 1.5332 - val_acc: 0.4949\n",
      "Epoch 47/50\n",
      "50000/50000 [==============================] - 3s 55us/step - loss: 0.6995 - acc: 0.7790 - val_loss: 1.5407 - val_acc: 0.4929\n",
      "Epoch 48/50\n",
      "50000/50000 [==============================] - 3s 55us/step - loss: 0.6852 - acc: 0.7846 - val_loss: 1.5443 - val_acc: 0.4972\n",
      "Epoch 49/50\n",
      "50000/50000 [==============================] - 3s 57us/step - loss: 0.6708 - acc: 0.7902 - val_loss: 1.5502 - val_acc: 0.4966\n"
     ]
    },
    {
     "name": "stdout",
     "output_type": "stream",
     "text": [
      "Epoch 50/50\n",
      "50000/50000 [==============================] - 3s 55us/step - loss: 0.6590 - acc: 0.7955 - val_loss: 1.5496 - val_acc: 0.5006\n"
     ]
    }
   ],
   "source": [
    "model = build_mlp(input_shape=x_train.shape[1:])\n",
    "model.summary()\n",
    "optimizer = keras.optimizers.SGD(lr=LEARNING_RATE, nesterov=True, momentum=MOMENTUM)\n",
    "model.compile(loss=\"categorical_crossentropy\", metrics=[\"accuracy\"], optimizer=optimizer)\n",
    "\n",
    "\"\"\"Code Here\n",
    "將 callbacks 放入模型訓練流程中\n",
    "\"\"\"\n",
    "model.fit(x_train, y_train, \n",
    "          epochs=EPOCHS, \n",
    "          batch_size=BATCH_SIZE, \n",
    "          validation_data=(x_test, y_test), \n",
    "          shuffle=True,\n",
    "          callbacks=[rec_tptn]\n",
    "          )\n",
    "\n",
    "# Collect results\n",
    "train_loss = model.history.history[\"loss\"]\n",
    "valid_loss = model.history.history[\"val_loss\"]\n",
    "train_acc = model.history.history[\"acc\"]\n",
    "valid_acc = model.history.history[\"val_acc\"]\n",
    "\n",
    "\"\"\"Code Here\n",
    "將 tp/tn 從訓練完的模型中取出\n",
    "\"\"\"\n",
    "valid_tp = model.history.history['val_tp']\n",
    "valid_tn = model.history.history['val_tn']"
   ]
  },
  {
   "cell_type": "code",
   "execution_count": 9,
   "metadata": {},
   "outputs": [
    {
     "data": {
      "image/png": "[encoded data removed]",
      "text/plain": [
       "<Figure size 432x288 with 1 Axes>"
      ]
     },
     "metadata": {
      "needs_background": "light"
     },
     "output_type": "display_data"
    },
    {
     "data": {
      "image/png": "[encoded data removed]",
      "text/plain": [
       "<Figure size 432x288 with 1 Axes>"
      ]
     },
     "metadata": {
      "needs_background": "light"
     },
     "output_type": "display_data"
    },
    {
     "data": {
      "image/png": "[encoded data removed]",
      "text/plain": [
       "<Figure size 432x288 with 1 Axes>"
      ]
     },
     "metadata": {
      "needs_background": "light"
     },
     "output_type": "display_data"
    }
   ],
   "source": [
    "import matplotlib.pyplot as plt\n",
    "%matplotlib inline\n",
    "\n",
    "plt.plot(range(len(train_loss)), train_loss, label=\"train loss\")\n",
    "plt.plot(range(len(valid_loss)), valid_loss, label=\"valid loss\")\n",
    "plt.legend()\n",
    "plt.title(\"Loss\")\n",
    "plt.show()\n",
    "\n",
    "plt.plot(range(len(train_acc)), train_acc, label=\"train accuracy\")\n",
    "plt.plot(range(len(valid_acc)), valid_acc, label=\"valid accuracy\")\n",
    "plt.legend()\n",
    "plt.title(\"Accuracy\")\n",
    "plt.show()\n",
    "\n",
    "plt.plot(range(len(valid_tp)), valid_tp, label=\"valid tp\", color=\"navy\")\n",
    "plt.plot(range(len(valid_tn)), valid_tn, label=\"valid tn\", color=\"red\")\n",
    "plt.legend()\n",
    "plt.title(\"True positives and True Negatives\")\n",
    "plt.show()"
   ]
  },
  {
   "cell_type": "code",
   "execution_count": null,
   "metadata": {},
   "outputs": [],
   "source": []
  }
 ],
 "metadata": {
  "kernelspec": {
   "display_name": "Python-keras35",
   "language": "python",
   "name": "keras35"
  },
  "language_info": {
   "codemirror_mode": {
    "name": "ipython",
    "version": 3
   },
   "file_extension": ".py",
   "mimetype": "text/x-python",
   "name": "python",
   "nbconvert_exporter": "python",
   "pygments_lexer": "ipython3",
   "version": "3.5.6"
  }
 },
 "nbformat": 4,
 "nbformat_minor": 2
}
